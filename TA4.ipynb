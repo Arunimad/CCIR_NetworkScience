{
  "nbformat": 4,
  "nbformat_minor": 0,
  "metadata": {
    "colab": {
      "name": "TA4.ipynb",
      "provenance": []
    },
    "kernelspec": {
      "name": "python3",
      "display_name": "Python 3"
    },
    "language_info": {
      "name": "python"
    }
  },
  "cells": [
    {
      "cell_type": "markdown",
      "source": [
        "# **NetworkX properties**"
      ],
      "metadata": {
        "id": "BxaC8toVp33e"
      }
    },
    {
      "cell_type": "code",
      "execution_count": null,
      "metadata": {
        "id": "qY4eNjB6neJU"
      },
      "outputs": [],
      "source": [
        "import networkx as nx\n",
        "import matplotlib as plt\n",
        "\n",
        "G = nx.Graph()\n",
        "\n",
        "G.add_edges_from([('A', 'B'), ('A', 'K'), ('B', 'K'), ('A', 'C'),\n",
        "\t\t\t\t('B', 'C'), ('C', 'F'), ('F', 'G'), ('C', 'E'),\n",
        "\t\t\t\t('E', 'F'), ('E', 'D'), ('E', 'H'), ('I', 'J')])\n",
        "\n"
      ]
    },
    {
      "cell_type": "code",
      "source": [
        "nx.draw (G, with_labels=True)\n",
        "\n"
      ],
      "metadata": {
        "id": "qV__ADp4nr_h",
        "colab": {
          "base_uri": "https://localhost:8080/",
          "height": 319
        },
        "outputId": "0e1765ae-1fcc-4b49-af0b-aa0bfdf3a503"
      },
      "execution_count": null,
      "outputs": [
        {
          "output_type": "display_data",
          "data": {
            "text/plain": [
              "<Figure size 432x288 with 1 Axes>"
            ],
            "image/png": "[encoded data removed]"
          },
          "metadata": {}
        }
      ]
    },
    {
      "cell_type": "markdown",
      "source": [
        "**Clustering**\n",
        "\n",
        "\n",
        "Triadic Closure for a Graph is the tendency for nodes who has a common neighbour to have an edge between them. In case more edges are added in the Graph, these are the edges that tend to get formed. For example in the following Graph : \n",
        "The edges that are most likely to be formed next are (B, F), (C, D), (F, H), and (D, H) because these pairs share a common neighbour.\n",
        "\n",
        "\n",
        "\n",
        "Local Clustering Coefficient of a node in a Graph is the fraction of pairs of the node’s neighbours that are adjacent to each other. For example the node C of the above graph has four adjacent nodes, A, B, E and F. \n",
        "\n",
        "Number of possible pairs that can be formed using these 4 nodes are 4*(4-1)/2 = 6. \n",
        "Number of actual pairs that are adjacent to each other = 2. These are (A, B) and (E, F). \n",
        "Thus Local Clustering Coefficient for node C in the given Graph = 2/6 = 0.667"
      ],
      "metadata": {
        "id": "kCturozToCdp"
      }
    },
    {
      "cell_type": "code",
      "source": [
        "\n",
        "# returns a Dictionary with clustering value of each node\n",
        "print(nx.clustering(G))\n",
        "\n",
        "# This returns clustering value of specified node\n",
        "print(nx.clustering(G, 'C'))\n"
      ],
      "metadata": {
        "id": "d5UwTV-5oLn8",
        "colab": {
          "base_uri": "https://localhost:8080/"
        },
        "outputId": "dbabc26c-acc3-45ca-e1a9-369991075648"
      },
      "execution_count": null,
      "outputs": [
        {
          "output_type": "stream",
          "name": "stdout",
          "text": [
            "{'A': 0.6666666666666666, 'B': 0.6666666666666666, 'K': 1.0, 'C': 0.3333333333333333, 'F': 0.3333333333333333, 'G': 0, 'E': 0.16666666666666666, 'D': 0, 'H': 0, 'I': 0, 'J': 0}\n",
            "0.3333333333333333\n"
          ]
        }
      ]
    },
    {
      "cell_type": "markdown",
      "source": [
        "**How to get the Clustering value for the whole Graph ?**\n",
        "\n",
        "\n",
        "There are two separate ways for finding that out :\n",
        "\n",
        "1. We can average over all the Local Clustering Coefficient of individual nodes, that is sum of local clustering coefficient of all nodes divided by total number of nodes. \n",
        "nx.average_clustering(G) is the code for finding that out. In the Graph given above, this returns a value of 0.28787878787878785. \n",
        "\n",
        "2. We can measure Transitivity of the Graph. \n",
        "\n",
        "Transitivity of a Graph = 3 * Number of triangles in a Graph / Number of connected triads in the Graph.\n",
        "\n",
        "\n",
        "In other words, it is thrice the ratio of number of closed triads to number of open triads.\n",
        "\n",
        "\n",
        "Open triad:\n",
        "\n",
        "![image.png](data:image/png;base64,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)\n",
        "\n",
        "\n",
        "\n",
        "\n",
        "Closed triad:\n",
        "\n",
        "![image.png](data:image/png;base64,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)\n",
        "\n"
      ],
      "metadata": {
        "id": "0J6SeZb0oUWQ"
      }
    },
    {
      "cell_type": "code",
      "source": [
        "nx.average_clustering(G)"
      ],
      "metadata": {
        "id": "GvF89SrvLV2S",
        "colab": {
          "base_uri": "https://localhost:8080/"
        },
        "outputId": "9e159c46-da46-4477-c581-4b6bf59abb7d"
      },
      "execution_count": null,
      "outputs": [
        {
          "output_type": "execute_result",
          "data": {
            "text/plain": [
              "0.28787878787878785"
            ]
          },
          "metadata": {},
          "execution_count": 5
        }
      ]
    },
    {
      "cell_type": "code",
      "source": [
        "nx.transitivity(G)"
      ],
      "metadata": {
        "id": "XPdIJIF8LmhP",
        "colab": {
          "base_uri": "https://localhost:8080/"
        },
        "outputId": "4600eb1a-4660-4662-e1dd-4198f1bc4c9a"
      },
      "execution_count": null,
      "outputs": [
        {
          "output_type": "execute_result",
          "data": {
            "text/plain": [
              "0.4090909090909091"
            ]
          },
          "metadata": {},
          "execution_count": 6
        }
      ]
    },
    {
      "cell_type": "markdown",
      "source": [
        "nx.transitivity(G) is the code for getting the Transitivity. In the Graph given above, it returns a value of 0.4090909090909091. \n",
        "\n",
        "Now, we know that the graph given above is not connected. Networkx provides a number of in-built functions to check on the various Connectivity features of a Graph. \n",
        "They are better illustrated in the following code:  "
      ],
      "metadata": {
        "id": "chdpYMfJozN9"
      }
    },
    {
      "cell_type": "code",
      "source": [
        "import networkx as nx\n",
        "\n",
        "G = nx.Graph()\n",
        "\n",
        "G.add_edges_from([('A', 'B'), ('A', 'K'), ('B', 'K'), ('A', 'C'),\n",
        "\t\t\t\t('B', 'C'), ('C', 'F'), ('F', 'G'), ('C', 'E'),\n",
        "\t\t\t\t('E', 'F'), ('E', 'D'), ('E', 'H'), ('I', 'J')])\n",
        "\n",
        "nx.draw_networkx(G, with_labels = True, node_color ='green')\n",
        "\n",
        "# returns True or False whether Graph is connected\n",
        "print(nx.is_connected(G))\n",
        "\n",
        "# returns number of different connected components\n",
        "print(nx.number_connected_components(G))\n",
        "\n",
        "# returns list of nodes in different connected components\n",
        "print(list(nx.connected_components(G)))\n",
        "\n",
        "# returns list of nodes of component containing given node\n",
        "print(nx.node_connected_component(G, 'I'))\n",
        "\n",
        "# returns number of nodes to be removed\n",
        "# so that Graph becomes disconnected\n",
        "print(nx.node_connectivity(G))\n",
        "\n",
        "# returns number of edges to be removed\n",
        "# so that Graph becomes disconnected\n",
        "print(nx.edge_connectivity(G))\n"
      ],
      "metadata": {
        "id": "sR93xbgwo1Bv",
        "colab": {
          "base_uri": "https://localhost:8080/",
          "height": 358
        },
        "outputId": "49624219-65f6-4017-e9cb-ab94b2d05693"
      },
      "execution_count": null,
      "outputs": [
        {
          "output_type": "stream",
          "name": "stdout",
          "text": [
            "False\n",
            "2\n",
            "[{'C', 'H', 'G', 'A', 'B', 'K', 'D', 'E', 'F'}, {'J', 'I'}]\n",
            "{'J', 'I'}\n",
            "0\n",
            "0\n"
          ]
        },
        {
          "output_type": "display_data",
          "data": {
            "text/plain": [
              "<Figure size 432x288 with 1 Axes>"
            ],
            "image/png": "[encoded data removed]"
          },
          "metadata": {}
        }
      ]
    },
    {
      "cell_type": "markdown",
      "source": [
        "**NetworkX clustering**\n",
        "\n",
        "\n",
        "https://networkx.org/documentation/stable/reference/algorithms/clustering.html"
      ],
      "metadata": {
        "id": "9PyGeyvrcS3A"
      }
    },
    {
      "cell_type": "markdown",
      "source": [
        "**Path**"
      ],
      "metadata": {
        "id": "srbhzL-FpV3v"
      }
    },
    {
      "cell_type": "code",
      "source": [
        "import networkx as nx\n",
        "import matplotlib.pyplot as plt\n",
        "\n",
        "G = nx.Graph()\n",
        "G.add_edges_from([('A', 'B'), ('A', 'K'), ('B', 'K'), ('A', 'C'),\n",
        "\t\t\t\t('B', 'C'), ('C', 'F'), ('F', 'G'), ('C', 'E'),\n",
        "\t\t\t\t('E', 'F'), ('E', 'D'), ('E', 'H'), ('H', 'I'), ('I', 'J')])\n",
        "\n",
        "plt.figure(figsize =(9, 9))\n",
        "nx.draw_networkx(G, with_labels = True, node_color ='green')\n",
        "\n",
        "print(nx.shortest_path(G, 'A'))\n",
        "# returns dictionary of shortest paths from A to all other nodes\n",
        "\n",
        "print(nx.shortest_path(G, 'A', 'G'))\n",
        "# returns a shortest path from node A to G\n",
        "\n",
        "print(nx.shortest_path_length(G, 'A', 'G'))\n",
        "# returns length of shortest path from node A to G\n",
        "\n",
        "print(list(nx.all_simple_paths(G, 'A', 'J')))\n",
        "# returns list of all paths from node A to J\n",
        "\n",
        "print(nx.average_shortest_path_length(G))\n",
        "# returns average of shortest paths between all possible pairs of nodes\n"
      ],
      "metadata": {
        "id": "hiHJ8ldqpX9O",
        "colab": {
          "base_uri": "https://localhost:8080/",
          "height": 632
        },
        "outputId": "d22720cb-0eee-45fb-fa9c-1289962b3458"
      },
      "execution_count": null,
      "outputs": [
        {
          "output_type": "stream",
          "name": "stdout",
          "text": [
            "{'A': ['A'], 'B': ['A', 'B'], 'K': ['A', 'K'], 'C': ['A', 'C'], 'F': ['A', 'C', 'F'], 'E': ['A', 'C', 'E'], 'G': ['A', 'C', 'F', 'G'], 'D': ['A', 'C', 'E', 'D'], 'H': ['A', 'C', 'E', 'H'], 'I': ['A', 'C', 'E', 'H', 'I'], 'J': ['A', 'C', 'E', 'H', 'I', 'J']}\n",
            "['A', 'C', 'F', 'G']\n",
            "3\n",
            "[['A', 'B', 'C', 'F', 'E', 'H', 'I', 'J'], ['A', 'B', 'C', 'E', 'H', 'I', 'J'], ['A', 'K', 'B', 'C', 'F', 'E', 'H', 'I', 'J'], ['A', 'K', 'B', 'C', 'E', 'H', 'I', 'J'], ['A', 'C', 'F', 'E', 'H', 'I', 'J'], ['A', 'C', 'E', 'H', 'I', 'J']]\n",
            "2.6363636363636362\n"
          ]
        },
        {
          "output_type": "display_data",
          "data": {
            "text/plain": [
              "<Figure size 648x648 with 1 Axes>"
            ],
            "image/png": "[encoded data removed]"
          },
          "metadata": {}
        }
      ]
    },
    {
      "cell_type": "markdown",
      "source": [
        "**Few important characteristics of a Graph –**\n",
        "\n",
        "\n",
        "\n",
        "***Eccentricity: ***\n",
        "\n",
        "For a node n in graph G, the eccentricity of n is the largest possible shortest path distance between n and all other nodes.\n",
        "\n",
        "***Diameter : ***\n",
        "\n",
        "The maximum shortest distance between a pair of nodes in a graph G is its Diameter. It is the largest possible eccentricity value of a node.\n",
        "\n",
        "***Radius :***\n",
        "\n",
        "It is the minimum eccentricity value of a node.\n",
        "\n",
        "**Periphery :** It is the set of nodes that have their eccentricity equal to their Diameter.\n",
        "\n",
        "***Center : ***\n",
        "\n",
        "Center of a Graph is the set of nodes whose eccentricity is equal to the radius of the Graph.\n",
        "\n",
        "Networkx offers built-in function for computing all these properties.  "
      ],
      "metadata": {
        "id": "-kfk51zjphnf"
      }
    },
    {
      "cell_type": "code",
      "source": [
        "import networkx as nx\n",
        "import matplotlib.pyplot as plt\n",
        "\n",
        "G = nx.Graph()\n",
        "G.add_edges_from([('A', 'B'), ('A', 'K'), ('B', 'K'), ('A', 'C'),\n",
        "\t\t\t\t('B', 'C'), ('C', 'F'), ('F', 'G'), ('C', 'E'),\n",
        "\t\t\t\t('E', 'F'), ('E', 'D'), ('E', 'H'), ('H', 'I'), ('I', 'J')])\n",
        "\n",
        "plt.figure(figsize =(9, 9))\n",
        "nx.draw_networkx(G, with_labels = True, node_color ='green')\n",
        "\n",
        "print(\"Eccentricity: \", nx.eccentricity(G))\n",
        "print(\"Diameter: \", nx.diameter(G))\n",
        "print(\"Radius: \", nx.radius(G))\n",
        "print(\"Preiphery: \", list(nx.periphery(G)))\n",
        "print(\"Center: \", list(nx.center(G)))\n"
      ],
      "metadata": {
        "id": "UriOE54apwib",
        "colab": {
          "base_uri": "https://localhost:8080/",
          "height": 612
        },
        "outputId": "83d9a225-d063-4b2f-8f0d-16eb833b6c66"
      },
      "execution_count": null,
      "outputs": [
        {
          "output_type": "stream",
          "name": "stdout",
          "text": [
            "Eccentricity:  {'A': 5, 'B': 5, 'K': 6, 'C': 4, 'F': 4, 'G': 5, 'E': 3, 'D': 4, 'H': 4, 'I': 5, 'J': 6}\n",
            "Diameter:  6\n",
            "Radius:  3\n",
            "Preiphery:  ['K', 'J']\n",
            "Center:  ['E']\n"
          ]
        },
        {
          "output_type": "display_data",
          "data": {
            "text/plain": [
              "<Figure size 648x648 with 1 Axes>"
            ],
            "image/png": "[encoded data removed]"
          },
          "metadata": {}
        }
      ]
    },
    {
      "cell_type": "markdown",
      "source": [
        "**Shortest path algos**\n",
        "\n",
        "\n",
        "https://www.tutorialspoint.com/shortest-path-algorithm-in-computer-network"
      ],
      "metadata": {
        "id": "_jkfdALrH2t5"
      }
    },
    {
      "cell_type": "markdown",
      "source": [
        "**Dijkstras Algo**\n",
        "\n",
        "\n",
        "https://www.geeksforgeeks.org/dijkstras-shortest-path-algorithm-greedy-algo-7/"
      ],
      "metadata": {
        "id": "a8ZXcSS-qkfA"
      }
    },
    {
      "cell_type": "markdown",
      "source": [
        "**MST**"
      ],
      "metadata": {
        "id": "_hE6POIpapkg"
      }
    },
    {
      "cell_type": "code",
      "source": [
        "G4 = nx.Graph()\n",
        "list_edges = [(1,2,2.0) , (1,4,4.0) , (2,3,3.0) , (2,5,2.0) , (3,6,1.0) , (4,5,2.0) , (4,7,6.0) , (5,6,5.0) , (5,8,3.0) , (6,9,8.0) , (8,9,1.0) , (7,8,2.0)]\n",
        "G4.add_weighted_edges_from(list_edges)\n",
        "G4.nodes[1]['pos'] = (0,0)\n",
        "G4.nodes[2]['pos'] = (0,2)\n",
        "G4.nodes[3]['pos'] = (0,4)\n",
        "G4.nodes[4]['pos'] = (2,0)\n",
        "G4.nodes[5]['pos'] = (2,2)\n",
        "G4.nodes[6]['pos'] = (2,4)\n",
        "G4.nodes[7]['pos'] = (4,0)\n",
        "G4.nodes[8]['pos'] = (4,2)\n",
        "G4.nodes[9]['pos'] = (4,4)\n",
        "T = nx.minimum_spanning_tree(G4)\n",
        "print(T.edges())"
      ],
      "metadata": {
        "id": "FrQT-MqWaoeg",
        "colab": {
          "base_uri": "https://localhost:8080/"
        },
        "outputId": "6819a3db-2c9e-46fa-f282-22f0acfd513e"
      },
      "execution_count": null,
      "outputs": [
        {
          "output_type": "stream",
          "name": "stdout",
          "text": [
            "[(1, 2), (2, 5), (2, 3), (4, 5), (3, 6), (5, 8), (7, 8), (8, 9)]\n"
          ]
        }
      ]
    },
    {
      "cell_type": "code",
      "source": [
        "nx.draw(G4)\n",
        "plt.show()"
      ],
      "metadata": {
        "id": "W7n0dPOVa6bo",
        "colab": {
          "base_uri": "https://localhost:8080/",
          "height": 319
        },
        "outputId": "7e311133-7628-4023-816f-ad2da161590e"
      },
      "execution_count": null,
      "outputs": [
        {
          "output_type": "display_data",
          "data": {
            "text/plain": [
              "<Figure size 432x288 with 1 Axes>"
            ],
            "image/png": "[encoded data removed]"
          },
          "metadata": {}
        }
      ]
    },
    {
      "cell_type": "code",
      "source": [
        "node_pos=nx.get_node_attributes(G4,'pos')\n",
        "edge_weight=nx.get_edge_attributes(G4,'weight')\n",
        "red_edges = T.edges()\n",
        "node_col = ['white']\n",
        "# If the edge is in the shortest path set it to red, else set it to white color\n",
        "edge_col = ['black' if not edge in red_edges else 'red' for edge in G4.edges()]\n",
        "# Draw the nodes\n",
        "nx.draw_networkx(G4, node_pos,node_color= node_col, node_size=450)\n",
        "# Draw the node labels\n",
        "# nx.draw_networkx_labels(G4, node_pos,node_color= node_col)\n",
        "# Draw the edges\n",
        "nx.draw_networkx_edges(G4, node_pos,edge_color= edge_col)\n",
        "# Draw the edge labels\n",
        "nx.draw(G4, node_pos,edge_color= edge_col)\n",
        "# Remove the axis\n",
        "plt.axis('off')\n",
        "# Show the plot\n",
        "plt.show()\n",
        "G4.clear()"
      ],
      "metadata": {
        "colab": {
          "base_uri": "https://localhost:8080/",
          "height": 248
        },
        "id": "94omL2j9aw6N",
        "outputId": "53f40f73-6670-41f4-af6d-950b59b0e691"
      },
      "execution_count": null,
      "outputs": [
        {
          "output_type": "display_data",
          "data": {
            "text/plain": [
              "<Figure size 432x288 with 1 Axes>"
            ],
            "image/png": "[encoded data removed]"
          },
          "metadata": {}
        }
      ]
    },
    {
      "cell_type": "markdown",
      "source": [
        "**Dijkstras **"
      ],
      "metadata": {
        "id": "wPOkSodhX-nl"
      }
    },
    {
      "cell_type": "code",
      "source": [
        "# The following line initializes two empty directed graph objects\n",
        "G1=nx.DiGraph()\n",
        "G2=nx.DiGraph()"
      ],
      "metadata": {
        "id": "19rqd7qDXkQJ",
        "outputId": "7f9de13f-0a58-4d44-9f6e-e1c04821088c",
        "colab": {
          "base_uri": "https://localhost:8080/",
          "height": 211
        }
      },
      "execution_count": null,
      "outputs": [
        {
          "output_type": "error",
          "ename": "NameError",
          "evalue": "ignored",
          "traceback": [
            "\u001b[0;31m---------------------------------------------------------------------------\u001b[0m",
            "\u001b[0;31mNameError\u001b[0m                                 Traceback (most recent call last)",
            "\u001b[0;32m<ipython-input-2-10d08d95b613>\u001b[0m in \u001b[0;36m<module>\u001b[0;34m()\u001b[0m\n\u001b[1;32m      1\u001b[0m \u001b[0;31m# The following line initializes two empty directed graph objects\u001b[0m\u001b[0;34m\u001b[0m\u001b[0;34m\u001b[0m\u001b[0;34m\u001b[0m\u001b[0m\n\u001b[0;32m----> 2\u001b[0;31m \u001b[0mG1\u001b[0m\u001b[0;34m=\u001b[0m\u001b[0mnx\u001b[0m\u001b[0;34m.\u001b[0m\u001b[0mDiGraph\u001b[0m\u001b[0;34m(\u001b[0m\u001b[0;34m)\u001b[0m\u001b[0;34m\u001b[0m\u001b[0;34m\u001b[0m\u001b[0m\n\u001b[0m\u001b[1;32m      3\u001b[0m \u001b[0mG2\u001b[0m\u001b[0;34m=\u001b[0m\u001b[0mnx\u001b[0m\u001b[0;34m.\u001b[0m\u001b[0mDiGraph\u001b[0m\u001b[0;34m(\u001b[0m\u001b[0;34m)\u001b[0m\u001b[0;34m\u001b[0m\u001b[0;34m\u001b[0m\u001b[0m\n",
            "\u001b[0;31mNameError\u001b[0m: name 'nx' is not defined"
          ]
        }
      ]
    },
    {
      "cell_type": "code",
      "source": [
        "G1.add_node(1)\n",
        "G1.add_node(2)\n",
        "G1.add_node(3)\n",
        "G1.add_node(4)\n",
        "G1.add_node(5)\n",
        "G1.add_node(6)\n",
        "G1.nodes()"
      ],
      "metadata": {
        "id": "MiRBFsGdYJdC"
      },
      "execution_count": null,
      "outputs": []
    },
    {
      "cell_type": "code",
      "source": [
        "list_nodes = [1, 2, 3, 4, 5, 6]\n",
        "G2.add_nodes_from(list_nodes)\n",
        "G2.nodes()"
      ],
      "metadata": {
        "colab": {
          "base_uri": "https://localhost:8080/"
        },
        "id": "6w92bE0BYMSw",
        "outputId": "49e00f22-302e-455b-ea5b-41193a6d89e6"
      },
      "execution_count": null,
      "outputs": [
        {
          "output_type": "execute_result",
          "data": {
            "text/plain": [
              "NodeView((1, 2, 3, 4, 5, 6))"
            ]
          },
          "metadata": {},
          "execution_count": 16
        }
      ]
    },
    {
      "cell_type": "code",
      "source": [
        "G1.add_edge(1, 2, weight = 2.0)\n",
        "G1.add_edge(1,3, weight = 4.0)\n",
        "G1.add_edge(2, 3, weight = 1.0)\n",
        "G1.add_edge(2, 4, weight = 4.0)\n",
        "G1.add_edge(2, 5, weight = 2.0)\n",
        "G1.add_edge(3, 5, weight = 3.0)\n",
        "G1.add_edge(4, 6, weight = 2.0)\n",
        "G1.add_edge(5, 4, weight = 3.0)\n",
        "G1.add_edge(5, 6, weight = 2.0)\n",
        "G1.edges()"
      ],
      "metadata": {
        "colab": {
          "base_uri": "https://localhost:8080/"
        },
        "id": "4BI7Hr3tYUMu",
        "outputId": "ad19c607-9581-4b3d-da6b-027812845d05"
      },
      "execution_count": null,
      "outputs": [
        {
          "output_type": "execute_result",
          "data": {
            "text/plain": [
              "OutEdgeView([(1, 2), (1, 3), (2, 3), (2, 4), (2, 5), (3, 5), (4, 6), (5, 4), (5, 6)])"
            ]
          },
          "metadata": {},
          "execution_count": 17
        }
      ]
    },
    {
      "cell_type": "code",
      "source": [
        "list_arcs = [(1,2,2.0) , (1,3,4.0) , (2,3,1.0) , (2,4,4.0) , (2,5,2.0) , (3,5,3.0) , (4,6,2.0) , (5,4,3.0) , (5,6,2.0)]\n",
        "G2.add_weighted_edges_from(list_arcs)\n",
        "G2.edges()"
      ],
      "metadata": {
        "id": "_FgCb7-nYpyf"
      },
      "execution_count": null,
      "outputs": []
    },
    {
      "cell_type": "code",
      "source": [
        "sp = nx.dijkstra_path(G1,source = 1, target = 6)\n",
        "print(sp)"
      ],
      "metadata": {
        "colab": {
          "base_uri": "https://localhost:8080/"
        },
        "id": "uOpri-5aYsjY",
        "outputId": "0070dd8a-d922-43c4-b1d6-028165d2dc9a"
      },
      "execution_count": null,
      "outputs": [
        {
          "output_type": "stream",
          "name": "stdout",
          "text": [
            "[1, 2, 5, 6]\n"
          ]
        }
      ]
    },
    {
      "cell_type": "code",
      "source": [
        "# First we import the matplotlib python plotting package\n",
        "import matplotlib.pyplot as plt\n",
        "# We then set the coordinates of each node\n",
        "G1.nodes[1]['pos'] = (0,0)\n",
        "G1.nodes[2]['pos'] = (2,2)\n",
        "G1.nodes[3]['pos'] = (2,-2)\n",
        "G1.nodes[4]['pos'] = (5,2)\n",
        "G1.nodes[5]['pos'] = (5,-2)\n",
        "G1.nodes[6]['pos'] = (7,0)\n",
        "# The positions of each node are stored in a dictionary\n",
        "node_pos=nx.get_node_attributes(G1,'pos')\n",
        "# The edge weights of each arcs are stored in a dictionary\n",
        "arc_weight=nx.get_edge_attributes(G1,'weight')\n",
        "# Create a list of arcs in the shortest path using the zip command and store it in red edges\n",
        "red_edges = list(zip(sp,sp[1:]))\n",
        "# If the node is in the shortest path, set it to red, else set it to white color\n",
        "node_col = ['white' if not node in sp else 'red' for node in G1.nodes()]\n",
        "# If the edge is in the shortest path set it to red, else set it to white color\n",
        "edge_col = ['black' if not edge in red_edges else 'red' for edge in G1.edges()]\n",
        "# Draw the nodes\n",
        "nx.draw_networkx(G1, node_pos,node_color= node_col, node_size=450)\n",
        "# Draw the node labels\n",
        "# nx.draw_networkx_labels(G1, node_pos,node_color= node_col)\n",
        "# Draw the edges\n",
        "nx.draw_networkx_edges(G1, node_pos,edge_color= edge_col)\n",
        "# Draw the edge labels\n",
        "nx.draw(G1, node_pos, edge_color= edge_col)\n",
        "# Remove the axis\n",
        "plt.axis('off')\n",
        "# Show the plot\n",
        "plt.show()"
      ],
      "metadata": {
        "id": "dS6Dy0aJY1PY"
      },
      "execution_count": null,
      "outputs": []
    }
  ]
}