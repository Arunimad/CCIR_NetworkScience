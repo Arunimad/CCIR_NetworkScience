{
  "nbformat": 4,
  "nbformat_minor": 0,
  "metadata": {
    "colab": {
      "name": "TA3.ipynb",
      "provenance": []
    },
    "kernelspec": {
      "name": "python3",
      "display_name": "Python 3"
    },
    "language_info": {
      "name": "python"
    },
    "widgets": {
      "application/vnd.jupyter.widget-state+json": {
        "41bf83b2327f4aceb3ae65af48cea9b8": {
          "model_module": "algorithmx-jupyter",
          "model_name": "AlgorithmXModel",
          "model_module_version": "^3.0.0",
          "state": {
            "_dom_classes": [],
            "_model_module": "algorithmx-jupyter",
            "_model_module_version": "^3.0.0",
            "_model_name": "AlgorithmXModel",
            "_view_count": null,
            "_view_module": "algorithmx-jupyter",
            "_view_module_version": "^3.0.0",
            "_view_name": "AlgorithmXView",
            "events": [
              "{\"attrs\": {\"nodes\": {\"1\": {\"shape\": \"rect\", \"size\": [20, 12], \"color\": \"red\"}, \"2\": {\"shape\": \"rect\", \"size\": [20, 12], \"color\": \"green\"}, \"3\": {\"shape\": \"rect\", \"size\": [20, 12], \"color\": \"blue\"}, \"4\": {\"shape\": \"rect\", \"size\": [20, 12], \"color\": \"orange\"}, \"5\": {\"shape\": \"rect\", \"size\": [20, 12], \"color\": \"purple\"}}}}",
              "{\"attrs\": {\"edges\": {\"1-2\": {\"source\": \"1\", \"target\": \"2\"}, \"2-3\": {\"source\": \"2\", \"target\": \"3\"}, \"2-4\": {\"source\": \"2\", \"target\": \"4\"}, \"2-5\": {\"source\": \"2\", \"target\": \"5\"}}}}"
            ],
            "layout": "IPY_MODEL_2e2b87bdb1ef4c659fde5532e14af466",
            "show_buttons": false
          }
        },
        "2e2b87bdb1ef4c659fde5532e14af466": {
          "model_module": "@jupyter-widgets/base",
          "model_name": "LayoutModel",
          "model_module_version": "1.2.0",
          "state": {
            "_model_module": "@jupyter-widgets/base",
            "_model_module_version": "1.2.0",
            "_model_name": "LayoutModel",
            "_view_count": null,
            "_view_module": "@jupyter-widgets/base",
            "_view_module_version": "1.2.0",
            "_view_name": "LayoutView",
            "align_content": null,
            "align_items": null,
            "align_self": null,
            "border": null,
            "bottom": null,
            "display": null,
            "flex": null,
            "flex_flow": null,
            "grid_area": null,
            "grid_auto_columns": null,
            "grid_auto_flow": null,
            "grid_auto_rows": null,
            "grid_column": null,
            "grid_gap": null,
            "grid_row": null,
            "grid_template_areas": null,
            "grid_template_columns": null,
            "grid_template_rows": null,
            "height": null,
            "justify_content": null,
            "justify_items": null,
            "left": null,
            "margin": null,
            "max_height": null,
            "max_width": null,
            "min_height": null,
            "min_width": null,
            "object_fit": null,
            "object_position": null,
            "order": null,
            "overflow": null,
            "overflow_x": null,
            "overflow_y": null,
            "padding": null,
            "right": null,
            "top": null,
            "visibility": null,
            "width": null
          }
        },
        "ae3a0c2c7a2c4fcb980b2a29696a2499": {
          "model_module": "algorithmx-jupyter",
          "model_name": "AlgorithmXModel",
          "model_module_version": "^3.0.0",
          "state": {
            "_dom_classes": [],
            "_model_module": "algorithmx-jupyter",
            "_model_module_version": "^3.0.0",
            "_model_name": "AlgorithmXModel",
            "_view_count": null,
            "_view_module": "algorithmx-jupyter",
            "_view_module_version": "^3.0.0",
            "_view_name": "AlgorithmXView",
            "events": [
              "{\"attrs\": {\"nodes\": {\"1\": {}, \"2\": {}, \"3\": {}}}}",
              "{\"attrs\": {\"edges\": {\"1-2\": {\"source\": \"1\", \"target\": \"2\", \"directed\": true}, \"2-1\": {\"source\": \"2\", \"target\": \"1\", \"directed\": true}, \"2-3\": {\"source\": \"2\", \"target\": \"3\", \"directed\": true}, \"3-1\": {\"source\": \"3\", \"target\": \"1\", \"directed\": true}}}}"
            ],
            "layout": "IPY_MODEL_78de1781c8544073acfac63af5e06cff",
            "show_buttons": false
          }
        },
        "78de1781c8544073acfac63af5e06cff": {
          "model_module": "@jupyter-widgets/base",
          "model_name": "LayoutModel",
          "model_module_version": "1.2.0",
          "state": {
            "_model_module": "@jupyter-widgets/base",
            "_model_module_version": "1.2.0",
            "_model_name": "LayoutModel",
            "_view_count": null,
            "_view_module": "@jupyter-widgets/base",
            "_view_module_version": "1.2.0",
            "_view_name": "LayoutView",
            "align_content": null,
            "align_items": null,
            "align_self": null,
            "border": null,
            "bottom": null,
            "display": null,
            "flex": null,
            "flex_flow": null,
            "grid_area": null,
            "grid_auto_columns": null,
            "grid_auto_flow": null,
            "grid_auto_rows": null,
            "grid_column": null,
            "grid_gap": null,
            "grid_row": null,
            "grid_template_areas": null,
            "grid_template_columns": null,
            "grid_template_rows": null,
            "height": null,
            "justify_content": null,
            "justify_items": null,
            "left": null,
            "margin": null,
            "max_height": null,
            "max_width": null,
            "min_height": null,
            "min_width": null,
            "object_fit": null,
            "object_position": null,
            "order": null,
            "overflow": null,
            "overflow_x": null,
            "overflow_y": null,
            "padding": null,
            "right": null,
            "top": null,
            "visibility": null,
            "width": null
          }
        },
        "65e088a5222f40f2843f3e871f9c0df1": {
          "model_module": "algorithmx-jupyter",
          "model_name": "AlgorithmXModel",
          "model_module_version": "^3.0.0",
          "state": {
            "_dom_classes": [],
            "_model_module": "algorithmx-jupyter",
            "_model_module_version": "^3.0.0",
            "_model_name": "AlgorithmXModel",
            "_view_count": null,
            "_view_module": "algorithmx-jupyter",
            "_view_module_version": "^3.0.0",
            "_view_name": "AlgorithmXView",
            "events": [
              "{\"attrs\": {\"nodes\": {\"1\": {}, \"2\": {}, \"3\": {}}}}",
              "{\"attrs\": {\"edges\": {\"1-2\": {\"source\": \"1\", \"target\": \"2\", \"labels\": {\"0\": {\"text\": 4}}}, \"1-3\": {\"source\": \"1\", \"target\": \"3\", \"labels\": {\"0\": {\"text\": 0.3}}}, \"2-3\": {\"source\": \"2\", \"target\": \"3\", \"labels\": {\"0\": {\"text\": 0.2}}}}}}"
            ],
            "layout": "IPY_MODEL_c30698256f354083a348e704ca29e4d5",
            "show_buttons": false
          }
        },
        "c30698256f354083a348e704ca29e4d5": {
          "model_module": "@jupyter-widgets/base",
          "model_name": "LayoutModel",
          "model_module_version": "1.2.0",
          "state": {
            "_model_module": "@jupyter-widgets/base",
            "_model_module_version": "1.2.0",
            "_model_name": "LayoutModel",
            "_view_count": null,
            "_view_module": "@jupyter-widgets/base",
            "_view_module_version": "1.2.0",
            "_view_name": "LayoutView",
            "align_content": null,
            "align_items": null,
            "align_self": null,
            "border": null,
            "bottom": null,
            "display": null,
            "flex": null,
            "flex_flow": null,
            "grid_area": null,
            "grid_auto_columns": null,
            "grid_auto_flow": null,
            "grid_auto_rows": null,
            "grid_column": null,
            "grid_gap": null,
            "grid_row": null,
            "grid_template_areas": null,
            "grid_template_columns": null,
            "grid_template_rows": null,
            "height": null,
            "justify_content": null,
            "justify_items": null,
            "left": null,
            "margin": null,
            "max_height": null,
            "max_width": null,
            "min_height": null,
            "min_width": null,
            "object_fit": null,
            "object_position": null,
            "order": null,
            "overflow": null,
            "overflow_x": null,
            "overflow_y": null,
            "padding": null,
            "right": null,
            "top": null,
            "visibility": null,
            "width": null
          }
        },
        "13a4de62b56f4c0fae85a543f2e062bb": {
          "model_module": "algorithmx-jupyter",
          "model_name": "AlgorithmXModel",
          "model_module_version": "^3.0.0",
          "state": {
            "_dom_classes": [],
            "_model_module": "algorithmx-jupyter",
            "_model_module_version": "^3.0.0",
            "_model_name": "AlgorithmXModel",
            "_view_count": null,
            "_view_module": "algorithmx-jupyter",
            "_view_module_version": "^3.0.0",
            "_view_name": "AlgorithmXView",
            "events": [
              "{\"attrs\": {\"nodes\": {\"1\": {}, \"2\": {}, \"3\": {}}}}",
              "{\"attrs\": {\"edges\": {\"1-2\": {\"source\": \"1\", \"target\": \"2\", \"directed\": false, \"labels\": {\"0\": {\"text\": 4}}}, \"1-3\": {\"source\": \"1\", \"target\": \"3\", \"directed\": false, \"labels\": {\"0\": {\"text\": 0.3}}}, \"2-3\": {\"source\": \"2\", \"target\": \"3\", \"directed\": false, \"labels\": {\"0\": {\"text\": 0.2}}}}}}"
            ],
            "layout": "IPY_MODEL_92839c05a4bd4776994ea935fa6ac612",
            "show_buttons": false
          }
        },
        "92839c05a4bd4776994ea935fa6ac612": {
          "model_module": "@jupyter-widgets/base",
          "model_name": "LayoutModel",
          "model_module_version": "1.2.0",
          "state": {
            "_model_module": "@jupyter-widgets/base",
            "_model_module_version": "1.2.0",
            "_model_name": "LayoutModel",
            "_view_count": null,
            "_view_module": "@jupyter-widgets/base",
            "_view_module_version": "1.2.0",
            "_view_name": "LayoutView",
            "align_content": null,
            "align_items": null,
            "align_self": null,
            "border": null,
            "bottom": null,
            "display": null,
            "flex": null,
            "flex_flow": null,
            "grid_area": null,
            "grid_auto_columns": null,
            "grid_auto_flow": null,
            "grid_auto_rows": null,
            "grid_column": null,
            "grid_gap": null,
            "grid_row": null,
            "grid_template_areas": null,
            "grid_template_columns": null,
            "grid_template_rows": null,
            "height": null,
            "justify_content": null,
            "justify_items": null,
            "left": null,
            "margin": null,
            "max_height": null,
            "max_width": null,
            "min_height": null,
            "min_width": null,
            "object_fit": null,
            "object_position": null,
            "order": null,
            "overflow": null,
            "overflow_x": null,
            "overflow_y": null,
            "padding": null,
            "right": null,
            "top": null,
            "visibility": null,
            "width": null
          }
        },
        "30c7d2386ae44cb58eedadc367722902": {
          "model_module": "algorithmx-jupyter",
          "model_name": "AlgorithmXModel",
          "model_module_version": "^3.0.0",
          "state": {
            "_dom_classes": [],
            "_model_module": "algorithmx-jupyter",
            "_model_module_version": "^3.0.0",
            "_model_name": "AlgorithmXModel",
            "_view_count": null,
            "_view_module": "algorithmx-jupyter",
            "_view_module_version": "^3.0.0",
            "_view_name": "AlgorithmXView",
            "events": [
              "{\"attrs\": {\"nodes\": {\"0\": {}, \"1\": {}, \"2\": {}, \"3\": {}, \"4\": {}, \"5\": {}, \"6\": {}, \"7\": {}, \"8\": {}, \"9\": {}}}}",
              "{\"attrs\": {\"edges\": {\"0-1\": {\"source\": \"0\", \"target\": \"1\", \"directed\": true, \"labels\": {\"0\": {\"text\": 5}}}, \"0-3\": {\"source\": \"0\", \"target\": \"3\", \"directed\": true, \"labels\": {\"0\": {\"text\": 4}}}, \"0-4\": {\"source\": \"0\", \"target\": \"4\", \"directed\": true, \"labels\": {\"0\": {\"text\": 9}}}, \"1-0\": {\"source\": \"1\", \"target\": \"0\", \"directed\": true, \"labels\": {\"0\": {\"text\": 1}}}, \"1-4\": {\"source\": \"1\", \"target\": \"4\", \"directed\": true, \"labels\": {\"0\": {\"text\": 10}}}, \"1-8\": {\"source\": \"1\", \"target\": \"8\", \"directed\": true, \"labels\": {\"0\": {\"text\": 8}}}, \"2-3\": {\"source\": \"2\", \"target\": \"3\", \"directed\": true, \"labels\": {\"0\": {\"text\": 2}}}, \"2-4\": {\"source\": \"2\", \"target\": \"4\", \"directed\": true, \"labels\": {\"0\": {\"text\": 2}}}, \"2-5\": {\"source\": \"2\", \"target\": \"5\", \"directed\": true, \"labels\": {\"0\": {\"text\": 5}}}, \"2-6\": {\"source\": \"2\", \"target\": \"6\", \"directed\": true, \"labels\": {\"0\": {\"text\": 4}}}, \"2-7\": {\"source\": \"2\", \"target\": \"7\", \"directed\": true, \"labels\": {\"0\": {\"text\": 10}}}, \"3-0\": {\"source\": \"3\", \"target\": \"0\", \"directed\": true, \"labels\": {\"0\": {\"text\": 5}}}, \"3-2\": {\"source\": \"3\", \"target\": \"2\", \"directed\": true, \"labels\": {\"0\": {\"text\": 7}}}, \"3-4\": {\"source\": \"3\", \"target\": \"4\", \"directed\": true, \"labels\": {\"0\": {\"text\": 7}}}, \"3-6\": {\"source\": \"3\", \"target\": \"6\", \"directed\": true, \"labels\": {\"0\": {\"text\": 9}}}, \"4-0\": {\"source\": \"4\", \"target\": \"0\", \"directed\": true, \"labels\": {\"0\": {\"text\": 3}}}, \"4-1\": {\"source\": \"4\", \"target\": \"1\", \"directed\": true, \"labels\": {\"0\": {\"text\": 3}}}, \"4-2\": {\"source\": \"4\", \"target\": \"2\", \"directed\": true, \"labels\": {\"0\": {\"text\": 7}}}, \"4-3\": {\"source\": \"4\", \"target\": \"3\", \"directed\": true, \"labels\": {\"0\": {\"text\": 8}}}, \"4-8\": {\"source\": \"4\", \"target\": \"8\", \"directed\": true, \"labels\": {\"0\": {\"text\": 10}}}, \"4-9\": {\"source\": \"4\", \"target\": \"9\", \"directed\": true, \"labels\": {\"0\": {\"text\": 7}}}, \"5-2\": {\"source\": \"5\", \"target\": \"2\", \"directed\": true, \"labels\": {\"0\": {\"text\": 9}}}, \"6-2\": {\"source\": \"6\", \"target\": \"2\", \"directed\": true, \"labels\": {\"0\": {\"text\": 4}}}, \"6-3\": {\"source\": \"6\", \"target\": \"3\", \"directed\": true, \"labels\": {\"0\": {\"text\": 5}}}, \"6-7\": {\"source\": \"6\", \"target\": \"7\", \"directed\": true, \"labels\": {\"0\": {\"text\": 7}}}, \"7-2\": {\"source\": \"7\", \"target\": \"2\", \"directed\": true, \"labels\": {\"0\": {\"text\": 3}}}, \"7-6\": {\"source\": \"7\", \"target\": \"6\", \"directed\": true, \"labels\": {\"0\": {\"text\": 6}}}, \"8-1\": {\"source\": \"8\", \"target\": \"1\", \"directed\": true, \"labels\": {\"0\": {\"text\": 1}}}, \"8-4\": {\"source\": \"8\", \"target\": \"4\", \"directed\": true, \"labels\": {\"0\": {\"text\": 3}}}, \"8-9\": {\"source\": \"8\", \"target\": \"9\", \"directed\": true, \"labels\": {\"0\": {\"text\": 9}}}, \"9-4\": {\"source\": \"9\", \"target\": \"4\", \"directed\": true, \"labels\": {\"0\": {\"text\": 2}}}, \"9-8\": {\"source\": \"9\", \"target\": \"8\", \"directed\": true, \"labels\": {\"0\": {\"text\": 2}}}}}}"
            ],
            "layout": "IPY_MODEL_233c3131084a4261b3964c82a7b0c75a",
            "show_buttons": false
          }
        },
        "233c3131084a4261b3964c82a7b0c75a": {
          "model_module": "@jupyter-widgets/base",
          "model_name": "LayoutModel",
          "model_module_version": "1.2.0",
          "state": {
            "_model_module": "@jupyter-widgets/base",
            "_model_module_version": "1.2.0",
            "_model_name": "LayoutModel",
            "_view_count": null,
            "_view_module": "@jupyter-widgets/base",
            "_view_module_version": "1.2.0",
            "_view_name": "LayoutView",
            "align_content": null,
            "align_items": null,
            "align_self": null,
            "border": null,
            "bottom": null,
            "display": null,
            "flex": null,
            "flex_flow": null,
            "grid_area": null,
            "grid_auto_columns": null,
            "grid_auto_flow": null,
            "grid_auto_rows": null,
            "grid_column": null,
            "grid_gap": null,
            "grid_row": null,
            "grid_template_areas": null,
            "grid_template_columns": null,
            "grid_template_rows": null,
            "height": null,
            "justify_content": null,
            "justify_items": null,
            "left": null,
            "margin": null,
            "max_height": null,
            "max_width": null,
            "min_height": null,
            "min_width": null,
            "object_fit": null,
            "object_position": null,
            "order": null,
            "overflow": null,
            "overflow_x": null,
            "overflow_y": null,
            "padding": null,
            "right": null,
            "top": null,
            "visibility": null,
            "width": null
          }
        },
        "709422d011994bbf849e1f98461d54a4": {
          "model_module": "algorithmx-jupyter",
          "model_name": "AlgorithmXModel",
          "model_module_version": "^3.0.0",
          "state": {
            "_dom_classes": [],
            "_model_module": "algorithmx-jupyter",
            "_model_module_version": "^3.0.0",
            "_model_name": "AlgorithmXModel",
            "_view_count": null,
            "_view_module": "algorithmx-jupyter",
            "_view_module_version": "^3.0.0",
            "_view_name": "AlgorithmXView",
            "events": [
              "{\"attrs\": {\"nodes\": {\"0\": {}, \"1\": {}, \"2\": {}, \"3\": {}, \"4\": {}, \"5\": {}, \"6\": {}, \"7\": {}, \"8\": {}, \"9\": {}}}}",
              "{\"attrs\": {\"nodes\": {\"0\": {\"color\": \"orange\"}, \"1\": {\"color\": \"yellow\"}, \"2\": {\"color\": \"orange\"}, \"3\": {\"color\": \"yellow\"}, \"4\": {\"color\": \"red\"}, \"5\": {\"color\": \"red\"}, \"6\": {\"color\": \"red\"}, \"7\": {\"color\": \"yellow\"}, \"8\": {\"color\": \"orange\"}, \"9\": {\"color\": \"yellow\"}}}, \"animation\": {\"duration\": 0}}",
              "{\"attrs\": {\"edges\": {\"0-1\": {\"source\": \"0\", \"target\": \"1\"}, \"0-3\": {\"source\": \"0\", \"target\": \"3\"}, \"0-4\": {\"source\": \"0\", \"target\": \"4\"}, \"1-4\": {\"source\": \"1\", \"target\": \"4\"}, \"1-8\": {\"source\": \"1\", \"target\": \"8\"}, \"2-3\": {\"source\": \"2\", \"target\": \"3\"}, \"2-4\": {\"source\": \"2\", \"target\": \"4\"}, \"2-5\": {\"source\": \"2\", \"target\": \"5\"}, \"2-6\": {\"source\": \"2\", \"target\": \"6\"}, \"2-7\": {\"source\": \"2\", \"target\": \"7\"}, \"3-4\": {\"source\": \"3\", \"target\": \"4\"}, \"3-6\": {\"source\": \"3\", \"target\": \"6\"}, \"4-8\": {\"source\": \"4\", \"target\": \"8\"}, \"4-9\": {\"source\": \"4\", \"target\": \"9\"}, \"6-7\": {\"source\": \"6\", \"target\": \"7\"}, \"8-9\": {\"source\": \"8\", \"target\": \"9\"}}}}",
              "{\"attrs\": {\"edges\": {\"0-1\": {\"labels\": {\"0\": {\"text\": 5}}}, \"0-3\": {\"labels\": {\"0\": {\"text\": 8}}}, \"0-4\": {\"labels\": {\"0\": {\"text\": 8}}}, \"1-4\": {\"labels\": {\"0\": {\"text\": 10}}}, \"1-8\": {\"labels\": {\"0\": {\"text\": 4}}}, \"2-3\": {\"labels\": {\"0\": {\"text\": 1}}}, \"2-4\": {\"labels\": {\"0\": {\"text\": 7}}}, \"2-5\": {\"labels\": {\"0\": {\"text\": 9}}}, \"2-6\": {\"labels\": {\"0\": {\"text\": 4}}}, \"2-7\": {\"labels\": {\"0\": {\"text\": 5}}}, \"3-4\": {\"labels\": {\"0\": {\"text\": 9}}}, \"3-6\": {\"labels\": {\"0\": {\"text\": 5}}}, \"4-8\": {\"labels\": {\"0\": {\"text\": 3}}}, \"4-9\": {\"labels\": {\"0\": {\"text\": 5}}}, \"6-7\": {\"labels\": {\"0\": {\"text\": 6}}}, \"8-9\": {\"labels\": {\"0\": {\"text\": 9}}}}}, \"animation\": {\"duration\": 0}}",
              "{\"attrs\": {\"edges\": {\"0-1\": {\"labels\": {\"centrality\": {\"color\": \"blue\", \"text\": \"0.11\"}}}, \"0-3\": {\"labels\": {\"centrality\": {\"color\": \"blue\", \"text\": \"0.18\"}}}, \"0-4\": {\"labels\": {\"centrality\": {\"color\": \"blue\", \"text\": \"0.04\"}}}, \"1-4\": {\"labels\": {\"centrality\": {\"color\": \"blue\", \"text\": \"0.00\"}}}, \"1-8\": {\"labels\": {\"centrality\": {\"color\": \"blue\", \"text\": \"0.13\"}}}, \"2-3\": {\"labels\": {\"centrality\": {\"color\": \"blue\", \"text\": \"0.26\"}}}, \"2-4\": {\"labels\": {\"centrality\": {\"color\": \"blue\", \"text\": \"0.37\"}}}, \"2-5\": {\"labels\": {\"centrality\": {\"color\": \"blue\", \"text\": \"0.20\"}}}, \"2-6\": {\"labels\": {\"centrality\": {\"color\": \"blue\", \"text\": \"0.15\"}}}, \"2-7\": {\"labels\": {\"centrality\": {\"color\": \"blue\", \"text\": \"0.18\"}}}, \"3-4\": {\"labels\": {\"centrality\": {\"color\": \"blue\", \"text\": \"0.00\"}}}, \"3-6\": {\"labels\": {\"centrality\": {\"color\": \"blue\", \"text\": \"0.03\"}}}, \"4-8\": {\"labels\": {\"centrality\": {\"color\": \"blue\", \"text\": \"0.24\"}}}, \"4-9\": {\"labels\": {\"centrality\": {\"color\": \"blue\", \"text\": \"0.20\"}}}, \"6-7\": {\"labels\": {\"centrality\": {\"color\": \"blue\", \"text\": \"0.02\"}}}, \"8-9\": {\"labels\": {\"centrality\": {\"color\": \"blue\", \"text\": \"0.00\"}}}}}, \"animation\": {\"duration\": 0}}"
            ],
            "layout": "IPY_MODEL_a84265b438734743b3124467dcf82c98",
            "show_buttons": false
          }
        },
        "a84265b438734743b3124467dcf82c98": {
          "model_module": "@jupyter-widgets/base",
          "model_name": "LayoutModel",
          "model_module_version": "1.2.0",
          "state": {
            "_model_module": "@jupyter-widgets/base",
            "_model_module_version": "1.2.0",
            "_model_name": "LayoutModel",
            "_view_count": null,
            "_view_module": "@jupyter-widgets/base",
            "_view_module_version": "1.2.0",
            "_view_name": "LayoutView",
            "align_content": null,
            "align_items": null,
            "align_self": null,
            "border": null,
            "bottom": null,
            "display": null,
            "flex": null,
            "flex_flow": null,
            "grid_area": null,
            "grid_auto_columns": null,
            "grid_auto_flow": null,
            "grid_auto_rows": null,
            "grid_column": null,
            "grid_gap": null,
            "grid_row": null,
            "grid_template_areas": null,
            "grid_template_columns": null,
            "grid_template_rows": null,
            "height": null,
            "justify_content": null,
            "justify_items": null,
            "left": null,
            "margin": null,
            "max_height": null,
            "max_width": null,
            "min_height": null,
            "min_width": null,
            "object_fit": null,
            "object_position": null,
            "order": null,
            "overflow": null,
            "overflow_x": null,
            "overflow_y": null,
            "padding": null,
            "right": null,
            "top": null,
            "visibility": null,
            "width": null
          }
        },
        "bbc9364ac7e04d16bc603bfd98c7a03a": {
          "model_module": "algorithmx-jupyter",
          "model_name": "AlgorithmXModel",
          "model_module_version": "^3.0.0",
          "state": {
            "_dom_classes": [],
            "_model_module": "algorithmx-jupyter",
            "_model_module_version": "^3.0.0",
            "_model_name": "AlgorithmXModel",
            "_view_count": null,
            "_view_module": "algorithmx-jupyter",
            "_view_module_version": "^3.0.0",
            "_view_name": "AlgorithmXView",
            "events": [
              "{\"attrs\": {\"nodes\": {\"1\": {}, \"2\": {}, \"3\": {}, \"4\": {}, \"5\": {}}}}",
              "{\"attrs\": {\"edges\": {\"1-2\": {\"source\": \"1\", \"target\": \"2\"}, \"2-3\": {\"source\": \"2\", \"target\": \"3\"}, \"2-4\": {\"source\": \"2\", \"target\": \"4\"}, \"2-5\": {\"source\": \"2\", \"target\": \"5\"}}}}"
            ],
            "layout": "IPY_MODEL_ddfcf13e36b94e3287e2347a9c33f6d9",
            "show_buttons": false
          }
        },
        "ddfcf13e36b94e3287e2347a9c33f6d9": {
          "model_module": "@jupyter-widgets/base",
          "model_name": "LayoutModel",
          "model_module_version": "1.2.0",
          "state": {
            "_model_module": "@jupyter-widgets/base",
            "_model_module_version": "1.2.0",
            "_model_name": "LayoutModel",
            "_view_count": null,
            "_view_module": "@jupyter-widgets/base",
            "_view_module_version": "1.2.0",
            "_view_name": "LayoutView",
            "align_content": null,
            "align_items": null,
            "align_self": null,
            "border": null,
            "bottom": null,
            "display": null,
            "flex": null,
            "flex_flow": null,
            "grid_area": null,
            "grid_auto_columns": null,
            "grid_auto_flow": null,
            "grid_auto_rows": null,
            "grid_column": null,
            "grid_gap": null,
            "grid_row": null,
            "grid_template_areas": null,
            "grid_template_columns": null,
            "grid_template_rows": null,
            "height": null,
            "justify_content": null,
            "justify_items": null,
            "left": null,
            "margin": null,
            "max_height": null,
            "max_width": null,
            "min_height": null,
            "min_width": null,
            "object_fit": null,
            "object_position": null,
            "order": null,
            "overflow": null,
            "overflow_x": null,
            "overflow_y": null,
            "padding": null,
            "right": null,
            "top": null,
            "visibility": null,
            "width": null
          }
        }
      }
    }
  },
  "cells": [
    {
      "cell_type": "markdown",
      "source": [
        "**NetowrkX and AlgorithmX**"
      ],
      "metadata": {
        "id": "kEM4-QKMmqIO"
      }
    },
    {
      "cell_type": "code",
      "execution_count": null,
      "metadata": {
        "id": "x1gyrTInjXDC"
      },
      "outputs": [],
      "source": [
        "import networkx as nx"
      ]
    },
    {
      "cell_type": "code",
      "source": [
        "G = nx.Graph()\n",
        "\n",
        "nx.add_path(G, [1, 2, 3])\n",
        "nx.add_path(G, [4, 2, 5])\n",
        "\n",
        "print('Nodes:', G.nodes)\n",
        "print('Edges:', G.edges)"
      ],
      "metadata": {
        "id": "y_Gf85i4lMg0",
        "outputId": "8166e0c8-a1ff-4dbd-c6e9-4871a3d2b7ea",
        "colab": {
          "base_uri": "https://localhost:8080/"
        }
      },
      "execution_count": null,
      "outputs": [
        {
          "output_type": "stream",
          "name": "stdout",
          "text": [
            "Nodes: [1, 2, 3, 4, 5]\n",
            "Edges: [(1, 2), (2, 3), (2, 4), (2, 5)]\n"
          ]
        }
      ]
    },
    {
      "cell_type": "code",
      "source": [
        "pip install algorithmx"
      ],
      "metadata": {
        "id": "xT3zn6KGlSpV",
        "colab": {
          "base_uri": "https://localhost:8080/"
        },
        "outputId": "374c072d-113c-4e49-d7c8-e4f9e5d5b924"
      },
      "execution_count": null,
      "outputs": [
        {
          "output_type": "stream",
          "name": "stdout",
          "text": [
            "Looking in indexes: https://pypi.org/simple, https://us-python.pkg.dev/colab-wheels/public/simple/\n",
            "Collecting algorithmx\n",
            "  Downloading algorithmx-2.0.3-py3-none-any.whl (1.6 MB)\n",
            "\u001b[K     |████████████████████████████████| 1.6 MB 5.4 MB/s \n",
            "\u001b[?25hInstalling collected packages: algorithmx\n",
            "Successfully installed algorithmx-2.0.3\n"
          ]
        }
      ]
    },
    {
      "cell_type": "code",
      "source": [
        "pip --version"
      ],
      "metadata": {
        "id": "2Tqt5H-ySNGv",
        "outputId": "4591357e-8496-42cb-a684-be3703f6cbff",
        "colab": {
          "base_uri": "https://localhost:8080/"
        }
      },
      "execution_count": null,
      "outputs": [
        {
          "output_type": "stream",
          "name": "stdout",
          "text": [
            "pip 21.1.3 from /usr/local/lib/python3.7/dist-packages/pip (python 3.7)\n"
          ]
        }
      ]
    },
    {
      "cell_type": "code",
      "source": [
        "from google.colab import output\n",
        "output.enable_custom_widget_manager()"
      ],
      "metadata": {
        "id": "gnev4v1_lYqk"
      },
      "execution_count": null,
      "outputs": []
    },
    {
      "cell_type": "code",
      "source": [
        "from algorithmx import jupyter_canvas"
      ],
      "metadata": {
        "id": "joeCZG47Qu8u"
      },
      "execution_count": null,
      "outputs": []
    },
    {
      "cell_type": "code",
      "source": [
        "from algorithmx import jupyter_canvas\n",
        "\n",
        "canvas = jupyter_canvas()\n",
        "\n",
        "canvas.nodes(G.nodes).add()\n",
        "canvas.edges(G.edges).add()\n",
        "\n",
        "canvas"
      ],
      "metadata": {
        "id": "NO9zuLOElPBM",
        "outputId": "ec970bf4-4c56-4574-fc59-ed470f1971c0",
        "colab": {
          "base_uri": "https://localhost:8080/",
          "height": 271,
          "referenced_widgets": [
            "bbc9364ac7e04d16bc603bfd98c7a03a",
            "ddfcf13e36b94e3287e2347a9c33f6d9"
          ]
        }
      },
      "execution_count": null,
      "outputs": [
        {
          "output_type": "display_data",
          "data": {
            "text/plain": [
              "JupyterWidget(events=['{\"attrs\": {\"nodes\": {\"1\": {}, \"2\": {}, \"3\": {}, \"4\": {}, \"5\": {}}}}', '{\"attrs\": {\"edge…"
            ],
            "application/vnd.jupyter.widget-view+json": {
              "version_major": 2,
              "version_minor": 0,
              "model_id": "bbc9364ac7e04d16bc603bfd98c7a03a"
            }
          },
          "metadata": {
            "application/vnd.jupyter.widget-view+json": {
              "colab": {
                "custom_widget_manager": {
                  "url": "https://ssl.gstatic.com/colaboratory-static/widgets/colab-cdn-widget-manager/d2e234f7cc04bf79/manager.min.js"
                }
              }
            }
          }
        }
      ]
    },
    {
      "cell_type": "code",
      "source": [
        "canvas = jupyter_canvas()\n",
        "\n",
        "node_colors = {1: 'red', 2: 'green', 3: 'blue', 4: 'orange', 5: 'purple'}\n",
        "\n",
        "canvas.nodes(G.nodes).add(\n",
        "    shape='rect',\n",
        "    size=(20, 12),\n",
        "    color=lambda n: node_colors[n]\n",
        ")\n",
        "canvas.edges(G.edges).add()\n",
        "\n",
        "canvas"
      ],
      "metadata": {
        "id": "_7U2FiPOlmEF",
        "colab": {
          "base_uri": "https://localhost:8080/",
          "height": 271,
          "referenced_widgets": [
            "41bf83b2327f4aceb3ae65af48cea9b8",
            "2e2b87bdb1ef4c659fde5532e14af466"
          ]
        },
        "outputId": "e4b7f09d-678c-48b5-f145-a4426efd8fb4"
      },
      "execution_count": null,
      "outputs": [
        {
          "output_type": "display_data",
          "data": {
            "text/plain": [
              "JupyterWidget(events=['{\"attrs\": {\"nodes\": {\"1\": {\"shape\": \"rect\", \"size\": [20, 12], \"color\": \"red\"}, \"2\": {\"s…"
            ],
            "application/vnd.jupyter.widget-view+json": {
              "version_major": 2,
              "version_minor": 0,
              "model_id": "41bf83b2327f4aceb3ae65af48cea9b8"
            }
          },
          "metadata": {
            "application/vnd.jupyter.widget-view+json": {
              "colab": {
                "custom_widget_manager": {
                  "url": "https://ssl.gstatic.com/colaboratory-static/widgets/colab-cdn-widget-manager/d2e234f7cc04bf79/manager.min.js"
                }
              }
            }
          }
        }
      ]
    },
    {
      "cell_type": "markdown",
      "source": [
        "**Weighted and Directed Graphs**"
      ],
      "metadata": {
        "id": "PXRc7VoHloyG"
      }
    },
    {
      "cell_type": "markdown",
      "source": [
        "Directed graph\n",
        "\n",
        "A directed graph, also called a digraph, is a graph in which the edges have a direction. This is usually indicated with an arrow on the edge; more formally, if v and w are vertices, an edge is an unordered pair {v,w}, while a directed edge, called an arc, is an ordered pair (v,w) or (w,v)."
      ],
      "metadata": {
        "id": "-YoHqABLlzs2"
      }
    },
    {
      "cell_type": "code",
      "source": [
        "G = nx.DiGraph()\n",
        "\n",
        "G.add_nodes_from([1, 2, 3])\n",
        "G.add_edges_from([(1, 2), (2,1),(2, 3), (3, 1)])\n",
        "\n",
        "canvas = jupyter_canvas()\n",
        "\n",
        "canvas.nodes(G.nodes).add()\n",
        "canvas.edges(G.edges).add(directed=True)\n",
        "\n",
        "canvas"
      ],
      "metadata": {
        "id": "B3IaADeXlp8G",
        "colab": {
          "base_uri": "https://localhost:8080/",
          "height": 271,
          "referenced_widgets": [
            "ae3a0c2c7a2c4fcb980b2a29696a2499",
            "78de1781c8544073acfac63af5e06cff"
          ]
        },
        "outputId": "83de3ec6-eb6a-4580-b3b8-d99c6282b236"
      },
      "execution_count": null,
      "outputs": [
        {
          "output_type": "display_data",
          "data": {
            "text/plain": [
              "JupyterWidget(events=['{\"attrs\": {\"nodes\": {\"1\": {}, \"2\": {}, \"3\": {}}}}', '{\"attrs\": {\"edges\": {\"1-2\": {\"sour…"
            ],
            "application/vnd.jupyter.widget-view+json": {
              "version_major": 2,
              "version_minor": 0,
              "model_id": "ae3a0c2c7a2c4fcb980b2a29696a2499"
            }
          },
          "metadata": {
            "application/vnd.jupyter.widget-view+json": {
              "colab": {
                "custom_widget_manager": {
                  "url": "https://ssl.gstatic.com/colaboratory-static/widgets/colab-cdn-widget-manager/d2e234f7cc04bf79/manager.min.js"
                }
              }
            }
          }
        }
      ]
    },
    {
      "cell_type": "markdown",
      "source": [
        "Adding weight:\n",
        "To create wighted graph, we will first ensure that our NetworkX edges have a ‘weight’ attribute. Then, we will add a label to each edge displaying the attribute."
      ],
      "metadata": {
        "id": "Wf5rPiPpl6Eh"
      }
    },
    {
      "cell_type": "code",
      "source": [
        "G = nx.Graph()\n",
        "\n",
        "G.add_nodes_from([1, 2, 3])\n",
        "G.add_weighted_edges_from([(1, 2, 4), (2, 3, 0.2), (3, 1, 0.3)])\n",
        "\n",
        "canvas = jupyter_canvas()\n",
        "\n",
        "canvas.nodes(G.nodes).add()\n",
        "canvas.edges(G.edges).add(\n",
        "    labels=lambda e: {0: {'text': G.edges[e]['weight']}}\n",
        ")\n",
        "\n",
        "canvas"
      ],
      "metadata": {
        "id": "nSSct1Xel5bz",
        "colab": {
          "base_uri": "https://localhost:8080/",
          "height": 271,
          "referenced_widgets": [
            "65e088a5222f40f2843f3e871f9c0df1",
            "c30698256f354083a348e704ca29e4d5"
          ]
        },
        "outputId": "6d77d657-bb1f-4642-ec67-6623875cbdcb"
      },
      "execution_count": null,
      "outputs": [
        {
          "output_type": "display_data",
          "data": {
            "text/plain": [
              "JupyterWidget(events=['{\"attrs\": {\"nodes\": {\"1\": {}, \"2\": {}, \"3\": {}}}}', '{\"attrs\": {\"edges\": {\"1-2\": {\"sour…"
            ],
            "application/vnd.jupyter.widget-view+json": {
              "version_major": 2,
              "version_minor": 0,
              "model_id": "65e088a5222f40f2843f3e871f9c0df1"
            }
          },
          "metadata": {
            "application/vnd.jupyter.widget-view+json": {
              "colab": {
                "custom_widget_manager": {
                  "url": "https://ssl.gstatic.com/colaboratory-static/widgets/colab-cdn-widget-manager/d2e234f7cc04bf79/manager.min.js"
                }
              }
            }
          }
        }
      ]
    },
    {
      "cell_type": "markdown",
      "source": [
        "AlgortihmX feature"
      ],
      "metadata": {
        "id": "9E4pgWYNmI3c"
      }
    },
    {
      "cell_type": "code",
      "source": [
        "from algorithmx.networkx import add_graph\n",
        "\n",
        "canvas = jupyter_canvas()\n",
        "add_graph(canvas, G)"
      ],
      "metadata": {
        "id": "x8WjtcV0mLPD",
        "colab": {
          "base_uri": "https://localhost:8080/",
          "height": 271,
          "referenced_widgets": [
            "13a4de62b56f4c0fae85a543f2e062bb",
            "92839c05a4bd4776994ea935fa6ac612"
          ]
        },
        "outputId": "3d98ecc1-619d-440e-e385-aa35ced1d669"
      },
      "execution_count": null,
      "outputs": [
        {
          "output_type": "display_data",
          "data": {
            "text/plain": [
              "JupyterWidget(events=['{\"attrs\": {\"nodes\": {\"1\": {}, \"2\": {}, \"3\": {}}}}', '{\"attrs\": {\"edges\": {\"1-2\": {\"sour…"
            ],
            "application/vnd.jupyter.widget-view+json": {
              "version_major": 2,
              "version_minor": 0,
              "model_id": "13a4de62b56f4c0fae85a543f2e062bb"
            }
          },
          "metadata": {
            "application/vnd.jupyter.widget-view+json": {
              "colab": {
                "custom_widget_manager": {
                  "url": "https://ssl.gstatic.com/colaboratory-static/widgets/colab-cdn-widget-manager/d2e234f7cc04bf79/manager.min.js"
                }
              }
            }
          }
        }
      ]
    },
    {
      "cell_type": "markdown",
      "source": [
        "**Random graphs**"
      ],
      "metadata": {
        "id": "aTHj0n3qmU8O"
      }
    },
    {
      "cell_type": "code",
      "source": [
        "G = nx.gnp_random_graph(10, 0.3, 138)\n",
        "\n",
        "canvas = jupyter_canvas()\n",
        "canvas.nodes(G.nodes).add()\n",
        "canvas.edges(G.edges).add()\n",
        "\n",
        "canvas"
      ],
      "metadata": {
        "id": "ru2CNRk9mXw5"
      },
      "execution_count": null,
      "outputs": []
    },
    {
      "cell_type": "markdown",
      "source": [
        "To make the graph directed, we will simply use G.to_directed. To make the graph weighted, we will need to configure a weight attribute for each edge. Since our graph is random, we’ll make our edge weights random as well."
      ],
      "metadata": {
        "id": "dt1CESljma2g"
      }
    },
    {
      "cell_type": "code",
      "source": [
        "from random import randint\n",
        "\n",
        "G = G.to_directed()\n",
        "nx.set_edge_attributes(G, {e: {'weight': randint(1, 10)} for e in G.edges})\n",
        "canvas = jupyter_canvas()\n",
        "add_graph(canvas, G)"
      ],
      "metadata": {
        "id": "XO_3UudZmZh1",
        "colab": {
          "base_uri": "https://localhost:8080/",
          "height": 271,
          "referenced_widgets": [
            "30c7d2386ae44cb58eedadc367722902",
            "233c3131084a4261b3964c82a7b0c75a"
          ]
        },
        "outputId": "e84e0e31-8c36-4395-a4e9-60d6581df809"
      },
      "execution_count": null,
      "outputs": [
        {
          "output_type": "display_data",
          "data": {
            "text/plain": [
              "JupyterWidget(events=['{\"attrs\": {\"nodes\": {\"0\": {}, \"1\": {}, \"2\": {}, \"3\": {}, \"4\": {}, \"5\": {}, \"6\": {}, \"7\"…"
            ],
            "application/vnd.jupyter.widget-view+json": {
              "version_major": 2,
              "version_minor": 0,
              "model_id": "30c7d2386ae44cb58eedadc367722902"
            }
          },
          "metadata": {
            "application/vnd.jupyter.widget-view+json": {
              "colab": {
                "custom_widget_manager": {
                  "url": "https://ssl.gstatic.com/colaboratory-static/widgets/colab-cdn-widget-manager/d2e234f7cc04bf79/manager.min.js"
                }
              }
            }
          }
        }
      ]
    },
    {
      "cell_type": "markdown",
      "source": [
        "**Detailed graph**"
      ],
      "metadata": {
        "id": "jQM2Okiimwy6"
      }
    },
    {
      "cell_type": "markdown",
      "source": [
        "Now we are going to create a graph that displays a range of interesting properties. Let’s begin by generating a random weighted graph, as before."
      ],
      "metadata": {
        "id": "v57Ws1G0m0gK"
      }
    },
    {
      "cell_type": "code",
      "source": [
        "G = nx.gnp_random_graph(10, 0.3, 201)\n",
        "nx.set_edge_attributes(G, {e: {'weight': randint(1, 10)} for e in G.edges})"
      ],
      "metadata": {
        "id": "zMyOjij1m1J4"
      },
      "execution_count": null,
      "outputs": []
    },
    {
      "cell_type": "markdown",
      "source": [
        "Next, we will use NetworkX to calculate the graph’s coloring and edge centrality."
      ],
      "metadata": {
        "id": "cFO5arDSnSsO"
      }
    },
    {
      "cell_type": "code",
      "source": [
        "coloring = nx.greedy_color(G)\n",
        "centrality = nx.edge_betweenness_centrality(G, weight='weight', normalized=True)"
      ],
      "metadata": {
        "id": "VnbXqV2AnUCm"
      },
      "execution_count": null,
      "outputs": []
    },
    {
      "cell_type": "markdown",
      "source": [
        "We can now begin displaying the graph. First, we will add the nodes and assign them a color based on their calculated priority. We happen to know that any planar graph requires at most 4 different colors, and so we prepare these beforehand."
      ],
      "metadata": {
        "id": "QWpXQNzunI2a"
      }
    },
    {
      "cell_type": "code",
      "source": [
        "canvas = jupyter_canvas()\n",
        "\n",
        "color_priority = {0: 'red', 1: 'orange', 2: 'yellow', 3: 'green'}\n",
        "\n",
        "canvas.nodes(G.nodes).add() \\\n",
        "    .color(lambda n: color_priority[coloring[n]])\n",
        "\n",
        "print(coloring)"
      ],
      "metadata": {
        "id": "QHAUaHZOnLGd",
        "colab": {
          "base_uri": "https://localhost:8080/",
          "height": 35
        },
        "outputId": "b3943c63-2cba-4ec6-fc61-3f4dcb833da7"
      },
      "execution_count": null,
      "outputs": [
        {
          "output_type": "stream",
          "name": "stdout",
          "text": [
            "{4: 0, 2: 1, 3: 2, 0: 1, 1: 2, 6: 0, 8: 1, 7: 2, 9: 2, 5: 0}\n"
          ]
        }
      ]
    },
    {
      "cell_type": "markdown",
      "source": [
        "Afterwards, we will add the edges. Each one will have two labels; one to display it’s weight, and another to display it’s calculated centrality."
      ],
      "metadata": {
        "id": "EGTHs438nYOY"
      }
    },
    {
      "cell_type": "code",
      "source": [
        "formatted_centrality = {k: '{0:.2f}'.format(v) for k, v in centrality.items()}\n",
        "\n",
        "init_edges = canvas.edges(G.edges).add()\n",
        "\n",
        "init_edges.label().add(\n",
        "     text=lambda e: G.edges[e]['weight']\n",
        ")\n",
        "init_edges.label('centrality').add(\n",
        "     color='blue',\n",
        "     text=lambda e: formatted_centrality[e]\n",
        ")\n",
        "\n",
        "print(formatted_centrality)"
      ],
      "metadata": {
        "id": "zmipkfwcnYpx",
        "colab": {
          "base_uri": "https://localhost:8080/",
          "height": 55
        },
        "outputId": "3594606b-69d4-488c-cc5f-95be2e52872a"
      },
      "execution_count": null,
      "outputs": [
        {
          "output_type": "stream",
          "name": "stdout",
          "text": [
            "{(0, 1): '0.11', (0, 3): '0.18', (0, 4): '0.04', (1, 4): '0.00', (1, 8): '0.13', (2, 3): '0.26', (2, 4): '0.37', (2, 5): '0.20', (2, 6): '0.15', (2, 7): '0.18', (3, 4): '0.00', (3, 6): '0.03', (4, 8): '0.24', (4, 9): '0.20', (6, 7): '0.02', (8, 9): '0.00'}\n"
          ]
        }
      ]
    },
    {
      "cell_type": "markdown",
      "source": [
        "Finally, we display the whole graph."
      ],
      "metadata": {
        "id": "A8OgZIklndu7"
      }
    },
    {
      "cell_type": "code",
      "source": [
        "canvas"
      ],
      "metadata": {
        "id": "WYqVvFpQneZ5",
        "colab": {
          "base_uri": "https://localhost:8080/",
          "height": 271,
          "referenced_widgets": [
            "709422d011994bbf849e1f98461d54a4",
            "a84265b438734743b3124467dcf82c98"
          ]
        },
        "outputId": "accc00f6-c4f5-45ab-b7e8-a9cbe45f90d7"
      },
      "execution_count": null,
      "outputs": [
        {
          "output_type": "display_data",
          "data": {
            "text/plain": [
              "JupyterWidget(events=['{\"attrs\": {\"nodes\": {\"0\": {}, \"1\": {}, \"2\": {}, \"3\": {}, \"4\": {}, \"5\": {}, \"6\": {}, \"7\"…"
            ],
            "application/vnd.jupyter.widget-view+json": {
              "version_major": 2,
              "version_minor": 0,
              "model_id": "709422d011994bbf849e1f98461d54a4"
            }
          },
          "metadata": {
            "application/vnd.jupyter.widget-view+json": {
              "colab": {
                "custom_widget_manager": {
                  "url": "https://ssl.gstatic.com/colaboratory-static/widgets/colab-cdn-widget-manager/d2e234f7cc04bf79/manager.min.js"
                }
              }
            }
          }
        }
      ]
    },
    {
      "cell_type": "markdown",
      "source": [
        "**Minimum spanning tree**"
      ],
      "metadata": {
        "id": "OlXftdWet3i6"
      }
    },
    {
      "cell_type": "markdown",
      "source": [
        "https://www.tutorialspoint.com/parallel_algorithm/graph_algorithm.htm\n",
        "\n",
        "https://www.geeksforgeeks.org/prims-minimum-spanning-tree-mst-greedy-algo-5/\n",
        "\n",
        "https://www.geeksforgeeks.org/kruskals-minimum-spanning-tree-algorithm-greedy-algo-2/\n",
        "\n"
      ],
      "metadata": {
        "id": "N0OLkAyDt6Rj"
      }
    }
  ]
}