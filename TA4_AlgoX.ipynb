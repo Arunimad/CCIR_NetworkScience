{
  "nbformat": 4,
  "nbformat_minor": 0,
  "metadata": {
    "colab": {
      "provenance": [],
      "include_colab_link": true
    },
    "kernelspec": {
      "name": "python3",
      "display_name": "Python 3"
    },
    "language_info": {
      "name": "python"
    },
    "widgets": {
      "application/vnd.jupyter.widget-state+json": {
        "39aca873df5245419254392af83da7e9": {
          "model_module": "algorithmx-jupyter",
          "model_name": "AlgorithmXModel",
          "model_module_version": "^3.0.0",
          "state": {
            "_dom_classes": [],
            "_model_module": "algorithmx-jupyter",
            "_model_module_version": "^3.0.0",
            "_model_name": "AlgorithmXModel",
            "_view_count": null,
            "_view_module": "algorithmx-jupyter",
            "_view_module_version": "^3.0.0",
            "_view_name": "AlgorithmXView",
            "events": [
              "{\"attrs\": {\"nodes\": {\"1\": {}, \"2\": {}, \"3\": {}, \"4\": {}, \"5\": {}}}}",
              "{\"attrs\": {\"edges\": {\"1-2\": {\"source\": \"1\", \"target\": \"2\"}, \"2-3\": {\"source\": \"2\", \"target\": \"3\"}, \"2-4\": {\"source\": \"2\", \"target\": \"4\"}, \"2-5\": {\"source\": \"2\", \"target\": \"5\"}}}}"
            ],
            "layout": "IPY_MODEL_9a2189bbfd0e4ec8b09c70290498ba74",
            "show_buttons": false
          }
        },
        "9a2189bbfd0e4ec8b09c70290498ba74": {
          "model_module": "@jupyter-widgets/base",
          "model_name": "LayoutModel",
          "model_module_version": "1.2.0",
          "state": {
            "_model_module": "@jupyter-widgets/base",
            "_model_module_version": "1.2.0",
            "_model_name": "LayoutModel",
            "_view_count": null,
            "_view_module": "@jupyter-widgets/base",
            "_view_module_version": "1.2.0",
            "_view_name": "LayoutView",
            "align_content": null,
            "align_items": null,
            "align_self": null,
            "border": null,
            "bottom": null,
            "display": null,
            "flex": null,
            "flex_flow": null,
            "grid_area": null,
            "grid_auto_columns": null,
            "grid_auto_flow": null,
            "grid_auto_rows": null,
            "grid_column": null,
            "grid_gap": null,
            "grid_row": null,
            "grid_template_areas": null,
            "grid_template_columns": null,
            "grid_template_rows": null,
            "height": null,
            "justify_content": null,
            "justify_items": null,
            "left": null,
            "margin": null,
            "max_height": null,
            "max_width": null,
            "min_height": null,
            "min_width": null,
            "object_fit": null,
            "object_position": null,
            "order": null,
            "overflow": null,
            "overflow_x": null,
            "overflow_y": null,
            "padding": null,
            "right": null,
            "top": null,
            "visibility": null,
            "width": null
          }
        },
        "026aca418e3b49da88bb8f7dceb5a5dc": {
          "model_module": "algorithmx-jupyter",
          "model_name": "AlgorithmXModel",
          "model_module_version": "^3.0.0",
          "state": {
            "_dom_classes": [],
            "_model_module": "algorithmx-jupyter",
            "_model_module_version": "^3.0.0",
            "_model_name": "AlgorithmXModel",
            "_view_count": null,
            "_view_module": "algorithmx-jupyter",
            "_view_module_version": "^3.0.0",
            "_view_name": "AlgorithmXView",
            "events": [
              "{\"attrs\": {\"nodes\": {\"1\": {\"shape\": \"rect\", \"size\": [20, 12], \"color\": \"red\"}, \"2\": {\"shape\": \"rect\", \"size\": [20, 12], \"color\": \"green\"}, \"3\": {\"shape\": \"rect\", \"size\": [20, 12], \"color\": \"blue\"}, \"4\": {\"shape\": \"rect\", \"size\": [20, 12], \"color\": \"orange\"}, \"5\": {\"shape\": \"rect\", \"size\": [20, 12], \"color\": \"purple\"}}}}",
              "{\"attrs\": {\"edges\": {\"1-2\": {\"source\": \"1\", \"target\": \"2\"}, \"2-3\": {\"source\": \"2\", \"target\": \"3\"}, \"2-4\": {\"source\": \"2\", \"target\": \"4\"}, \"2-5\": {\"source\": \"2\", \"target\": \"5\"}}}}"
            ],
            "layout": "IPY_MODEL_36d9345962484aa0b7055f4ff9d5865c",
            "show_buttons": false
          }
        },
        "36d9345962484aa0b7055f4ff9d5865c": {
          "model_module": "@jupyter-widgets/base",
          "model_name": "LayoutModel",
          "model_module_version": "1.2.0",
          "state": {
            "_model_module": "@jupyter-widgets/base",
            "_model_module_version": "1.2.0",
            "_model_name": "LayoutModel",
            "_view_count": null,
            "_view_module": "@jupyter-widgets/base",
            "_view_module_version": "1.2.0",
            "_view_name": "LayoutView",
            "align_content": null,
            "align_items": null,
            "align_self": null,
            "border": null,
            "bottom": null,
            "display": null,
            "flex": null,
            "flex_flow": null,
            "grid_area": null,
            "grid_auto_columns": null,
            "grid_auto_flow": null,
            "grid_auto_rows": null,
            "grid_column": null,
            "grid_gap": null,
            "grid_row": null,
            "grid_template_areas": null,
            "grid_template_columns": null,
            "grid_template_rows": null,
            "height": null,
            "justify_content": null,
            "justify_items": null,
            "left": null,
            "margin": null,
            "max_height": null,
            "max_width": null,
            "min_height": null,
            "min_width": null,
            "object_fit": null,
            "object_position": null,
            "order": null,
            "overflow": null,
            "overflow_x": null,
            "overflow_y": null,
            "padding": null,
            "right": null,
            "top": null,
            "visibility": null,
            "width": null
          }
        },
        "30b16dcabdc0475aa889ac21025259ec": {
          "model_module": "algorithmx-jupyter",
          "model_name": "AlgorithmXModel",
          "model_module_version": "^3.0.0",
          "state": {
            "_dom_classes": [],
            "_model_module": "algorithmx-jupyter",
            "_model_module_version": "^3.0.0",
            "_model_name": "AlgorithmXModel",
            "_view_count": null,
            "_view_module": "algorithmx-jupyter",
            "_view_module_version": "^3.0.0",
            "_view_name": "AlgorithmXView",
            "events": [
              "{\"attrs\": {\"nodes\": {\"1\": {}, \"2\": {}, \"3\": {}}}}",
              "{\"attrs\": {\"edges\": {\"1-2\": {\"source\": \"1\", \"target\": \"2\", \"directed\": true}, \"2-1\": {\"source\": \"2\", \"target\": \"1\", \"directed\": true}, \"2-3\": {\"source\": \"2\", \"target\": \"3\", \"directed\": true}, \"3-1\": {\"source\": \"3\", \"target\": \"1\", \"directed\": true}}}}"
            ],
            "layout": "IPY_MODEL_390e781098bd42b1a19b4dc21739a1a0",
            "show_buttons": false
          }
        },
        "390e781098bd42b1a19b4dc21739a1a0": {
          "model_module": "@jupyter-widgets/base",
          "model_name": "LayoutModel",
          "model_module_version": "1.2.0",
          "state": {
            "_model_module": "@jupyter-widgets/base",
            "_model_module_version": "1.2.0",
            "_model_name": "LayoutModel",
            "_view_count": null,
            "_view_module": "@jupyter-widgets/base",
            "_view_module_version": "1.2.0",
            "_view_name": "LayoutView",
            "align_content": null,
            "align_items": null,
            "align_self": null,
            "border": null,
            "bottom": null,
            "display": null,
            "flex": null,
            "flex_flow": null,
            "grid_area": null,
            "grid_auto_columns": null,
            "grid_auto_flow": null,
            "grid_auto_rows": null,
            "grid_column": null,
            "grid_gap": null,
            "grid_row": null,
            "grid_template_areas": null,
            "grid_template_columns": null,
            "grid_template_rows": null,
            "height": null,
            "justify_content": null,
            "justify_items": null,
            "left": null,
            "margin": null,
            "max_height": null,
            "max_width": null,
            "min_height": null,
            "min_width": null,
            "object_fit": null,
            "object_position": null,
            "order": null,
            "overflow": null,
            "overflow_x": null,
            "overflow_y": null,
            "padding": null,
            "right": null,
            "top": null,
            "visibility": null,
            "width": null
          }
        },
        "39b169b1e6434db69846927d2d53b4a5": {
          "model_module": "algorithmx-jupyter",
          "model_name": "AlgorithmXModel",
          "model_module_version": "^3.0.0",
          "state": {
            "_dom_classes": [],
            "_model_module": "algorithmx-jupyter",
            "_model_module_version": "^3.0.0",
            "_model_name": "AlgorithmXModel",
            "_view_count": null,
            "_view_module": "algorithmx-jupyter",
            "_view_module_version": "^3.0.0",
            "_view_name": "AlgorithmXView",
            "events": [
              "{\"attrs\": {\"nodes\": {\"1\": {}, \"2\": {}, \"3\": {}}}}",
              "{\"attrs\": {\"edges\": {\"1-2\": {\"source\": \"1\", \"target\": \"2\", \"labels\": {\"0\": {\"text\": 4}}}, \"1-3\": {\"source\": \"1\", \"target\": \"3\", \"labels\": {\"0\": {\"text\": 0.3}}}, \"2-3\": {\"source\": \"2\", \"target\": \"3\", \"labels\": {\"0\": {\"text\": 0.2}}}}}}"
            ],
            "layout": "IPY_MODEL_6aaa6e532b2c4493bb373c37acf6904b",
            "show_buttons": false
          }
        },
        "6aaa6e532b2c4493bb373c37acf6904b": {
          "model_module": "@jupyter-widgets/base",
          "model_name": "LayoutModel",
          "model_module_version": "1.2.0",
          "state": {
            "_model_module": "@jupyter-widgets/base",
            "_model_module_version": "1.2.0",
            "_model_name": "LayoutModel",
            "_view_count": null,
            "_view_module": "@jupyter-widgets/base",
            "_view_module_version": "1.2.0",
            "_view_name": "LayoutView",
            "align_content": null,
            "align_items": null,
            "align_self": null,
            "border": null,
            "bottom": null,
            "display": null,
            "flex": null,
            "flex_flow": null,
            "grid_area": null,
            "grid_auto_columns": null,
            "grid_auto_flow": null,
            "grid_auto_rows": null,
            "grid_column": null,
            "grid_gap": null,
            "grid_row": null,
            "grid_template_areas": null,
            "grid_template_columns": null,
            "grid_template_rows": null,
            "height": null,
            "justify_content": null,
            "justify_items": null,
            "left": null,
            "margin": null,
            "max_height": null,
            "max_width": null,
            "min_height": null,
            "min_width": null,
            "object_fit": null,
            "object_position": null,
            "order": null,
            "overflow": null,
            "overflow_x": null,
            "overflow_y": null,
            "padding": null,
            "right": null,
            "top": null,
            "visibility": null,
            "width": null
          }
        },
        "6b463bf74de345c3b2ae70801aedc4c8": {
          "model_module": "algorithmx-jupyter",
          "model_name": "AlgorithmXModel",
          "model_module_version": "^3.0.0",
          "state": {
            "_dom_classes": [],
            "_model_module": "algorithmx-jupyter",
            "_model_module_version": "^3.0.0",
            "_model_name": "AlgorithmXModel",
            "_view_count": null,
            "_view_module": "algorithmx-jupyter",
            "_view_module_version": "^3.0.0",
            "_view_name": "AlgorithmXView",
            "events": [
              "{\"attrs\": {\"nodes\": {\"1\": {}, \"2\": {}, \"3\": {}}}}",
              "{\"attrs\": {\"edges\": {\"1-2\": {\"source\": \"1\", \"target\": \"2\", \"directed\": false, \"labels\": {\"0\": {\"text\": 4}}}, \"1-3\": {\"source\": \"1\", \"target\": \"3\", \"directed\": false, \"labels\": {\"0\": {\"text\": 0.3}}}, \"2-3\": {\"source\": \"2\", \"target\": \"3\", \"directed\": false, \"labels\": {\"0\": {\"text\": 0.2}}}}}}"
            ],
            "layout": "IPY_MODEL_5244dfc6a9794b61abebfa59d016ffd7",
            "show_buttons": false
          }
        },
        "5244dfc6a9794b61abebfa59d016ffd7": {
          "model_module": "@jupyter-widgets/base",
          "model_name": "LayoutModel",
          "model_module_version": "1.2.0",
          "state": {
            "_model_module": "@jupyter-widgets/base",
            "_model_module_version": "1.2.0",
            "_model_name": "LayoutModel",
            "_view_count": null,
            "_view_module": "@jupyter-widgets/base",
            "_view_module_version": "1.2.0",
            "_view_name": "LayoutView",
            "align_content": null,
            "align_items": null,
            "align_self": null,
            "border": null,
            "bottom": null,
            "display": null,
            "flex": null,
            "flex_flow": null,
            "grid_area": null,
            "grid_auto_columns": null,
            "grid_auto_flow": null,
            "grid_auto_rows": null,
            "grid_column": null,
            "grid_gap": null,
            "grid_row": null,
            "grid_template_areas": null,
            "grid_template_columns": null,
            "grid_template_rows": null,
            "height": null,
            "justify_content": null,
            "justify_items": null,
            "left": null,
            "margin": null,
            "max_height": null,
            "max_width": null,
            "min_height": null,
            "min_width": null,
            "object_fit": null,
            "object_position": null,
            "order": null,
            "overflow": null,
            "overflow_x": null,
            "overflow_y": null,
            "padding": null,
            "right": null,
            "top": null,
            "visibility": null,
            "width": null
          }
        },
        "4c153489bb3e4b90a91c3057352daf1c": {
          "model_module": "algorithmx-jupyter",
          "model_name": "AlgorithmXModel",
          "model_module_version": "^3.0.0",
          "state": {
            "_dom_classes": [],
            "_model_module": "algorithmx-jupyter",
            "_model_module_version": "^3.0.0",
            "_model_name": "AlgorithmXModel",
            "_view_count": null,
            "_view_module": "algorithmx-jupyter",
            "_view_module_version": "^3.0.0",
            "_view_name": "AlgorithmXView",
            "events": [
              "{\"attrs\": {\"nodes\": {\"1\": {}, \"2\": {}, \"3\": {}}}}",
              "{\"attrs\": {\"edges\": {\"1-2\": {\"source\": \"1\", \"target\": \"2\", \"directed\": false, \"labels\": {\"0\": {\"text\": 4}}}, \"1-3\": {\"source\": \"1\", \"target\": \"3\", \"directed\": false, \"labels\": {\"0\": {\"text\": 0.3}}}, \"2-3\": {\"source\": \"2\", \"target\": \"3\", \"directed\": false, \"labels\": {\"0\": {\"text\": 0.2}}}}}}"
            ],
            "layout": "IPY_MODEL_c5025fd1271f4dbe9f9e35aee564a9c0",
            "show_buttons": false
          }
        },
        "c5025fd1271f4dbe9f9e35aee564a9c0": {
          "model_module": "@jupyter-widgets/base",
          "model_name": "LayoutModel",
          "model_module_version": "1.2.0",
          "state": {
            "_model_module": "@jupyter-widgets/base",
            "_model_module_version": "1.2.0",
            "_model_name": "LayoutModel",
            "_view_count": null,
            "_view_module": "@jupyter-widgets/base",
            "_view_module_version": "1.2.0",
            "_view_name": "LayoutView",
            "align_content": null,
            "align_items": null,
            "align_self": null,
            "border": null,
            "bottom": null,
            "display": null,
            "flex": null,
            "flex_flow": null,
            "grid_area": null,
            "grid_auto_columns": null,
            "grid_auto_flow": null,
            "grid_auto_rows": null,
            "grid_column": null,
            "grid_gap": null,
            "grid_row": null,
            "grid_template_areas": null,
            "grid_template_columns": null,
            "grid_template_rows": null,
            "height": null,
            "justify_content": null,
            "justify_items": null,
            "left": null,
            "margin": null,
            "max_height": null,
            "max_width": null,
            "min_height": null,
            "min_width": null,
            "object_fit": null,
            "object_position": null,
            "order": null,
            "overflow": null,
            "overflow_x": null,
            "overflow_y": null,
            "padding": null,
            "right": null,
            "top": null,
            "visibility": null,
            "width": null
          }
        },
        "36d40cba5081455eb69b45330288365c": {
          "model_module": "algorithmx-jupyter",
          "model_name": "AlgorithmXModel",
          "model_module_version": "^3.0.0",
          "state": {
            "_dom_classes": [],
            "_model_module": "algorithmx-jupyter",
            "_model_module_version": "^3.0.0",
            "_model_name": "AlgorithmXModel",
            "_view_count": null,
            "_view_module": "algorithmx-jupyter",
            "_view_module_version": "^3.0.0",
            "_view_name": "AlgorithmXView",
            "events": [
              "{\"attrs\": {\"nodes\": {\"1\": {}, \"2\": {}, \"3\": {}}}}",
              "{\"attrs\": {\"edges\": {\"1-2\": {\"source\": \"1\", \"target\": \"2\", \"directed\": false}, \"2-3\": {\"source\": \"2\", \"target\": \"3\", \"directed\": false}}}}"
            ],
            "layout": "IPY_MODEL_8f34bec2834d48ca92cbe246c5cde36b",
            "show_buttons": false
          }
        },
        "8f34bec2834d48ca92cbe246c5cde36b": {
          "model_module": "@jupyter-widgets/base",
          "model_name": "LayoutModel",
          "model_module_version": "1.2.0",
          "state": {
            "_model_module": "@jupyter-widgets/base",
            "_model_module_version": "1.2.0",
            "_model_name": "LayoutModel",
            "_view_count": null,
            "_view_module": "@jupyter-widgets/base",
            "_view_module_version": "1.2.0",
            "_view_name": "LayoutView",
            "align_content": null,
            "align_items": null,
            "align_self": null,
            "border": null,
            "bottom": null,
            "display": null,
            "flex": null,
            "flex_flow": null,
            "grid_area": null,
            "grid_auto_columns": null,
            "grid_auto_flow": null,
            "grid_auto_rows": null,
            "grid_column": null,
            "grid_gap": null,
            "grid_row": null,
            "grid_template_areas": null,
            "grid_template_columns": null,
            "grid_template_rows": null,
            "height": null,
            "justify_content": null,
            "justify_items": null,
            "left": null,
            "margin": null,
            "max_height": null,
            "max_width": null,
            "min_height": null,
            "min_width": null,
            "object_fit": null,
            "object_position": null,
            "order": null,
            "overflow": null,
            "overflow_x": null,
            "overflow_y": null,
            "padding": null,
            "right": null,
            "top": null,
            "visibility": null,
            "width": null
          }
        },
        "bd051172ac0e485384bef30019ec5187": {
          "model_module": "algorithmx-jupyter",
          "model_name": "AlgorithmXModel",
          "model_module_version": "^3.0.0",
          "state": {
            "_dom_classes": [],
            "_model_module": "algorithmx-jupyter",
            "_model_module_version": "^3.0.0",
            "_model_name": "AlgorithmXModel",
            "_view_count": null,
            "_view_module": "algorithmx-jupyter",
            "_view_module_version": "^3.0.0",
            "_view_name": "AlgorithmXView",
            "events": [
              "{\"attrs\": {\"nodes\": {\"0\": {}, \"1\": {}, \"2\": {}, \"3\": {}, \"4\": {}, \"5\": {}, \"6\": {}, \"7\": {}, \"8\": {}, \"9\": {}, \"10\": {}, \"11\": {}, \"12\": {}, \"13\": {}, \"14\": {}, \"15\": {}, \"16\": {}, \"17\": {}, \"18\": {}, \"19\": {}}}}",
              "{\"attrs\": {\"edges\": {\"0-7\": {\"source\": \"0\", \"target\": \"7\"}, \"0-12\": {\"source\": \"0\", \"target\": \"12\"}, \"0-14\": {\"source\": \"0\", \"target\": \"14\"}, \"0-17\": {\"source\": \"0\", \"target\": \"17\"}, \"0-18\": {\"source\": \"0\", \"target\": \"18\"}, \"0-19\": {\"source\": \"0\", \"target\": \"19\"}, \"1-4\": {\"source\": \"1\", \"target\": \"4\"}, \"1-6\": {\"source\": \"1\", \"target\": \"6\"}, \"1-8\": {\"source\": \"1\", \"target\": \"8\"}, \"1-9\": {\"source\": \"1\", \"target\": \"9\"}, \"1-11\": {\"source\": \"1\", \"target\": \"11\"}, \"1-12\": {\"source\": \"1\", \"target\": \"12\"}, \"1-15\": {\"source\": \"1\", \"target\": \"15\"}, \"1-19\": {\"source\": \"1\", \"target\": \"19\"}, \"2-7\": {\"source\": \"2\", \"target\": \"7\"}, \"2-9\": {\"source\": \"2\", \"target\": \"9\"}, \"2-10\": {\"source\": \"2\", \"target\": \"10\"}, \"2-11\": {\"source\": \"2\", \"target\": \"11\"}, \"2-14\": {\"source\": \"2\", \"target\": \"14\"}, \"3-7\": {\"source\": \"3\", \"target\": \"7\"}, \"3-9\": {\"source\": \"3\", \"target\": \"9\"}, \"3-12\": {\"source\": \"3\", \"target\": \"12\"}, \"3-16\": {\"source\": \"3\", \"target\": \"16\"}, \"3-17\": {\"source\": \"3\", \"target\": \"17\"}, \"3-18\": {\"source\": \"3\", \"target\": \"18\"}, \"4-5\": {\"source\": \"4\", \"target\": \"5\"}, \"4-13\": {\"source\": \"4\", \"target\": \"13\"}, \"4-17\": {\"source\": \"4\", \"target\": \"17\"}, \"4-19\": {\"source\": \"4\", \"target\": \"19\"}, \"5-14\": {\"source\": \"5\", \"target\": \"14\"}, \"5-15\": {\"source\": \"5\", \"target\": \"15\"}, \"5-16\": {\"source\": \"5\", \"target\": \"16\"}, \"5-19\": {\"source\": \"5\", \"target\": \"19\"}, \"6-7\": {\"source\": \"6\", \"target\": \"7\"}, \"6-11\": {\"source\": \"6\", \"target\": \"11\"}, \"6-16\": {\"source\": \"6\", \"target\": \"16\"}, \"6-18\": {\"source\": \"6\", \"target\": \"18\"}, \"7-9\": {\"source\": \"7\", \"target\": \"9\"}, \"7-14\": {\"source\": \"7\", \"target\": \"14\"}, \"7-16\": {\"source\": \"7\", \"target\": \"16\"}, \"7-18\": {\"source\": \"7\", \"target\": \"18\"}, \"8-16\": {\"source\": \"8\", \"target\": \"16\"}, \"8-18\": {\"source\": \"8\", \"target\": \"18\"}, \"9-15\": {\"source\": \"9\", \"target\": \"15\"}, \"9-16\": {\"source\": \"9\", \"target\": \"16\"}, \"10-18\": {\"source\": \"10\", \"target\": \"18\"}, \"11-14\": {\"source\": \"11\", \"target\": \"14\"}, \"11-18\": {\"source\": \"11\", \"target\": \"18\"}, \"12-13\": {\"source\": \"12\", \"target\": \"13\"}, \"15-16\": {\"source\": \"15\", \"target\": \"16\"}, \"17-18\": {\"source\": \"17\", \"target\": \"18\"}}}}"
            ],
            "layout": "IPY_MODEL_09350f07b8854eb59b269fe5af65360f",
            "show_buttons": false
          }
        },
        "09350f07b8854eb59b269fe5af65360f": {
          "model_module": "@jupyter-widgets/base",
          "model_name": "LayoutModel",
          "model_module_version": "1.2.0",
          "state": {
            "_model_module": "@jupyter-widgets/base",
            "_model_module_version": "1.2.0",
            "_model_name": "LayoutModel",
            "_view_count": null,
            "_view_module": "@jupyter-widgets/base",
            "_view_module_version": "1.2.0",
            "_view_name": "LayoutView",
            "align_content": null,
            "align_items": null,
            "align_self": null,
            "border": null,
            "bottom": null,
            "display": null,
            "flex": null,
            "flex_flow": null,
            "grid_area": null,
            "grid_auto_columns": null,
            "grid_auto_flow": null,
            "grid_auto_rows": null,
            "grid_column": null,
            "grid_gap": null,
            "grid_row": null,
            "grid_template_areas": null,
            "grid_template_columns": null,
            "grid_template_rows": null,
            "height": null,
            "justify_content": null,
            "justify_items": null,
            "left": null,
            "margin": null,
            "max_height": null,
            "max_width": null,
            "min_height": null,
            "min_width": null,
            "object_fit": null,
            "object_position": null,
            "order": null,
            "overflow": null,
            "overflow_x": null,
            "overflow_y": null,
            "padding": null,
            "right": null,
            "top": null,
            "visibility": null,
            "width": null
          }
        },
        "12fe8db23be14830b2221285d581fc23": {
          "model_module": "algorithmx-jupyter",
          "model_name": "AlgorithmXModel",
          "model_module_version": "^3.0.0",
          "state": {
            "_dom_classes": [],
            "_model_module": "algorithmx-jupyter",
            "_model_module_version": "^3.0.0",
            "_model_name": "AlgorithmXModel",
            "_view_count": null,
            "_view_module": "algorithmx-jupyter",
            "_view_module_version": "^3.0.0",
            "_view_name": "AlgorithmXView",
            "events": [
              "{\"attrs\": {\"nodes\": {\"0\": {}, \"1\": {}, \"2\": {}, \"3\": {}, \"4\": {}, \"5\": {}, \"6\": {}, \"7\": {}, \"8\": {}, \"9\": {}, \"10\": {}, \"11\": {}, \"12\": {}, \"13\": {}, \"14\": {}, \"15\": {}, \"16\": {}, \"17\": {}, \"18\": {}, \"19\": {}}}}",
              "{\"attrs\": {\"edges\": {\"0-7\": {\"source\": \"0\", \"target\": \"7\", \"directed\": true, \"labels\": {\"0\": {\"text\": 1}}}, \"0-12\": {\"source\": \"0\", \"target\": \"12\", \"directed\": true, \"labels\": {\"0\": {\"text\": 6}}}, \"0-14\": {\"source\": \"0\", \"target\": \"14\", \"directed\": true, \"labels\": {\"0\": {\"text\": 10}}}, \"0-17\": {\"source\": \"0\", \"target\": \"17\", \"directed\": true, \"labels\": {\"0\": {\"text\": 4}}}, \"0-18\": {\"source\": \"0\", \"target\": \"18\", \"directed\": true, \"labels\": {\"0\": {\"text\": 2}}}, \"0-19\": {\"source\": \"0\", \"target\": \"19\", \"directed\": true, \"labels\": {\"0\": {\"text\": 1}}}, \"1-4\": {\"source\": \"1\", \"target\": \"4\", \"directed\": true, \"labels\": {\"0\": {\"text\": 4}}}, \"1-6\": {\"source\": \"1\", \"target\": \"6\", \"directed\": true, \"labels\": {\"0\": {\"text\": 10}}}, \"1-8\": {\"source\": \"1\", \"target\": \"8\", \"directed\": true, \"labels\": {\"0\": {\"text\": 9}}}, \"1-9\": {\"source\": \"1\", \"target\": \"9\", \"directed\": true, \"labels\": {\"0\": {\"text\": 2}}}, \"1-11\": {\"source\": \"1\", \"target\": \"11\", \"directed\": true, \"labels\": {\"0\": {\"text\": 8}}}, \"1-12\": {\"source\": \"1\", \"target\": \"12\", \"directed\": true, \"labels\": {\"0\": {\"text\": 6}}}, \"1-15\": {\"source\": \"1\", \"target\": \"15\", \"directed\": true, \"labels\": {\"0\": {\"text\": 8}}}, \"1-19\": {\"source\": \"1\", \"target\": \"19\", \"directed\": true, \"labels\": {\"0\": {\"text\": 3}}}, \"2-7\": {\"source\": \"2\", \"target\": \"7\", \"directed\": true, \"labels\": {\"0\": {\"text\": 10}}}, \"2-9\": {\"source\": \"2\", \"target\": \"9\", \"directed\": true, \"labels\": {\"0\": {\"text\": 5}}}, \"2-10\": {\"source\": \"2\", \"target\": \"10\", \"directed\": true, \"labels\": {\"0\": {\"text\": 8}}}, \"2-11\": {\"source\": \"2\", \"target\": \"11\", \"directed\": true, \"labels\": {\"0\": {\"text\": 8}}}, \"2-14\": {\"source\": \"2\", \"target\": \"14\", \"directed\": true, \"labels\": {\"0\": {\"text\": 9}}}, \"3-7\": {\"source\": \"3\", \"target\": \"7\", \"directed\": true, \"labels\": {\"0\": {\"text\": 4}}}, \"3-9\": {\"source\": \"3\", \"target\": \"9\", \"directed\": true, \"labels\": {\"0\": {\"text\": 4}}}, \"3-12\": {\"source\": \"3\", \"target\": \"12\", \"directed\": true, \"labels\": {\"0\": {\"text\": 9}}}, \"3-16\": {\"source\": \"3\", \"target\": \"16\", \"directed\": true, \"labels\": {\"0\": {\"text\": 1}}}, \"3-17\": {\"source\": \"3\", \"target\": \"17\", \"directed\": true, \"labels\": {\"0\": {\"text\": 7}}}, \"3-18\": {\"source\": \"3\", \"target\": \"18\", \"directed\": true, \"labels\": {\"0\": {\"text\": 1}}}, \"4-1\": {\"source\": \"4\", \"target\": \"1\", \"directed\": true, \"labels\": {\"0\": {\"text\": 5}}}, \"4-5\": {\"source\": \"4\", \"target\": \"5\", \"directed\": true, \"labels\": {\"0\": {\"text\": 6}}}, \"4-13\": {\"source\": \"4\", \"target\": \"13\", \"directed\": true, \"labels\": {\"0\": {\"text\": 10}}}, \"4-17\": {\"source\": \"4\", \"target\": \"17\", \"directed\": true, \"labels\": {\"0\": {\"text\": 5}}}, \"4-19\": {\"source\": \"4\", \"target\": \"19\", \"directed\": true, \"labels\": {\"0\": {\"text\": 3}}}, \"5-4\": {\"source\": \"5\", \"target\": \"4\", \"directed\": true, \"labels\": {\"0\": {\"text\": 4}}}, \"5-14\": {\"source\": \"5\", \"target\": \"14\", \"directed\": true, \"labels\": {\"0\": {\"text\": 4}}}, \"5-15\": {\"source\": \"5\", \"target\": \"15\", \"directed\": true, \"labels\": {\"0\": {\"text\": 8}}}, \"5-16\": {\"source\": \"5\", \"target\": \"16\", \"directed\": true, \"labels\": {\"0\": {\"text\": 4}}}, \"5-19\": {\"source\": \"5\", \"target\": \"19\", \"directed\": true, \"labels\": {\"0\": {\"text\": 1}}}, \"6-1\": {\"source\": \"6\", \"target\": \"1\", \"directed\": true, \"labels\": {\"0\": {\"text\": 10}}}, \"6-7\": {\"source\": \"6\", \"target\": \"7\", \"directed\": true, \"labels\": {\"0\": {\"text\": 10}}}, \"6-11\": {\"source\": \"6\", \"target\": \"11\", \"directed\": true, \"labels\": {\"0\": {\"text\": 10}}}, \"6-16\": {\"source\": \"6\", \"target\": \"16\", \"directed\": true, \"labels\": {\"0\": {\"text\": 2}}}, \"6-18\": {\"source\": \"6\", \"target\": \"18\", \"directed\": true, \"labels\": {\"0\": {\"text\": 2}}}, \"7-0\": {\"source\": \"7\", \"target\": \"0\", \"directed\": true, \"labels\": {\"0\": {\"text\": 5}}}, \"7-2\": {\"source\": \"7\", \"target\": \"2\", \"directed\": true, \"labels\": {\"0\": {\"text\": 4}}}, \"7-3\": {\"source\": \"7\", \"target\": \"3\", \"directed\": true, \"labels\": {\"0\": {\"text\": 10}}}, \"7-6\": {\"source\": \"7\", \"target\": \"6\", \"directed\": true, \"labels\": {\"0\": {\"text\": 7}}}, \"7-9\": {\"source\": \"7\", \"target\": \"9\", \"directed\": true, \"labels\": {\"0\": {\"text\": 6}}}, \"7-14\": {\"source\": \"7\", \"target\": \"14\", \"directed\": true, \"labels\": {\"0\": {\"text\": 4}}}, \"7-16\": {\"source\": \"7\", \"target\": \"16\", \"directed\": true, \"labels\": {\"0\": {\"text\": 2}}}, \"7-18\": {\"source\": \"7\", \"target\": \"18\", \"directed\": true, \"labels\": {\"0\": {\"text\": 2}}}, \"8-1\": {\"source\": \"8\", \"target\": \"1\", \"directed\": true, \"labels\": {\"0\": {\"text\": 2}}}, \"8-16\": {\"source\": \"8\", \"target\": \"16\", \"directed\": true, \"labels\": {\"0\": {\"text\": 2}}}, \"8-18\": {\"source\": \"8\", \"target\": \"18\", \"directed\": true, \"labels\": {\"0\": {\"text\": 3}}}, \"9-1\": {\"source\": \"9\", \"target\": \"1\", \"directed\": true, \"labels\": {\"0\": {\"text\": 8}}}, \"9-2\": {\"source\": \"9\", \"target\": \"2\", \"directed\": true, \"labels\": {\"0\": {\"text\": 9}}}, \"9-3\": {\"source\": \"9\", \"target\": \"3\", \"directed\": true, \"labels\": {\"0\": {\"text\": 5}}}, \"9-7\": {\"source\": \"9\", \"target\": \"7\", \"directed\": true, \"labels\": {\"0\": {\"text\": 6}}}, \"9-15\": {\"source\": \"9\", \"target\": \"15\", \"directed\": true, \"labels\": {\"0\": {\"text\": 1}}}, \"9-16\": {\"source\": \"9\", \"target\": \"16\", \"directed\": true, \"labels\": {\"0\": {\"text\": 4}}}, \"10-2\": {\"source\": \"10\", \"target\": \"2\", \"directed\": true, \"labels\": {\"0\": {\"text\": 6}}}, \"10-18\": {\"source\": \"10\", \"target\": \"18\", \"directed\": true, \"labels\": {\"0\": {\"text\": 8}}}, \"11-1\": {\"source\": \"11\", \"target\": \"1\", \"directed\": true, \"labels\": {\"0\": {\"text\": 8}}}, \"11-2\": {\"source\": \"11\", \"target\": \"2\", \"directed\": true, \"labels\": {\"0\": {\"text\": 7}}}, \"11-6\": {\"source\": \"11\", \"target\": \"6\", \"directed\": true, \"labels\": {\"0\": {\"text\": 7}}}, \"11-14\": {\"source\": \"11\", \"target\": \"14\", \"directed\": true, \"labels\": {\"0\": {\"text\": 1}}}, \"11-18\": {\"source\": \"11\", \"target\": \"18\", \"directed\": true, \"labels\": {\"0\": {\"text\": 8}}}, \"12-0\": {\"source\": \"12\", \"target\": \"0\", \"directed\": true, \"labels\": {\"0\": {\"text\": 1}}}, \"12-1\": {\"source\": \"12\", \"target\": \"1\", \"directed\": true, \"labels\": {\"0\": {\"text\": 8}}}, \"12-3\": {\"source\": \"12\", \"target\": \"3\", \"directed\": true, \"labels\": {\"0\": {\"text\": 6}}}, \"12-13\": {\"source\": \"12\", \"target\": \"13\", \"directed\": true, \"labels\": {\"0\": {\"text\": 1}}}, \"13-4\": {\"source\": \"13\", \"target\": \"4\", \"directed\": true, \"labels\": {\"0\": {\"text\": 8}}}, \"13-12\": {\"source\": \"13\", \"target\": \"12\", \"directed\": true, \"labels\": {\"0\": {\"text\": 5}}}, \"14-0\": {\"source\": \"14\", \"target\": \"0\", \"directed\": true, \"labels\": {\"0\": {\"text\": 3}}}, \"14-2\": {\"source\": \"14\", \"target\": \"2\", \"directed\": true, \"labels\": {\"0\": {\"text\": 4}}}, \"14-5\": {\"source\": \"14\", \"target\": \"5\", \"directed\": true, \"labels\": {\"0\": {\"text\": 3}}}, \"14-7\": {\"source\": \"14\", \"target\": \"7\", \"directed\": true, \"labels\": {\"0\": {\"text\": 3}}}, \"14-11\": {\"source\": \"14\", \"target\": \"11\", \"directed\": true, \"labels\": {\"0\": {\"text\": 10}}}, \"15-1\": {\"source\": \"15\", \"target\": \"1\", \"directed\": true, \"labels\": {\"0\": {\"text\": 8}}}, \"15-5\": {\"source\": \"15\", \"target\": \"5\", \"directed\": true, \"labels\": {\"0\": {\"text\": 3}}}, \"15-9\": {\"source\": \"15\", \"target\": \"9\", \"directed\": true, \"labels\": {\"0\": {\"text\": 9}}}, \"15-16\": {\"source\": \"15\", \"target\": \"16\", \"directed\": true, \"labels\": {\"0\": {\"text\": 3}}}, \"16-3\": {\"source\": \"16\", \"target\": \"3\", \"directed\": true, \"labels\": {\"0\": {\"text\": 2}}}, \"16-5\": {\"source\": \"16\", \"target\": \"5\", \"directed\": true, \"labels\": {\"0\": {\"text\": 4}}}, \"16-6\": {\"source\": \"16\", \"target\": \"6\", \"directed\": true, \"labels\": {\"0\": {\"text\": 4}}}, \"16-7\": {\"source\": \"16\", \"target\": \"7\", \"directed\": true, \"labels\": {\"0\": {\"text\": 6}}}, \"16-8\": {\"source\": \"16\", \"target\": \"8\", \"directed\": true, \"labels\": {\"0\": {\"text\": 10}}}, \"16-9\": {\"source\": \"16\", \"target\": \"9\", \"directed\": true, \"labels\": {\"0\": {\"text\": 5}}}, \"16-15\": {\"source\": \"16\", \"target\": \"15\", \"directed\": true, \"labels\": {\"0\": {\"text\": 1}}}, \"17-0\": {\"source\": \"17\", \"target\": \"0\", \"directed\": true, \"labels\": {\"0\": {\"text\": 7}}}, \"17-3\": {\"source\": \"17\", \"target\": \"3\", \"directed\": true, \"labels\": {\"0\": {\"text\": 4}}}, \"17-4\": {\"source\": \"17\", \"target\": \"4\", \"directed\": true, \"labels\": {\"0\": {\"text\": 6}}}, \"17-18\": {\"source\": \"17\", \"target\": \"18\", \"directed\": true, \"labels\": {\"0\": {\"text\": 5}}}, \"18-0\": {\"source\": \"18\", \"target\": \"0\", \"directed\": true, \"labels\": {\"0\": {\"text\": 5}}}, \"18-3\": {\"source\": \"18\", \"target\": \"3\", \"directed\": true, \"labels\": {\"0\": {\"text\": 4}}}, \"18-6\": {\"source\": \"18\", \"target\": \"6\", \"directed\": true, \"labels\": {\"0\": {\"text\": 5}}}, \"18-7\": {\"source\": \"18\", \"target\": \"7\", \"directed\": true, \"labels\": {\"0\": {\"text\": 1}}}, \"18-8\": {\"source\": \"18\", \"target\": \"8\", \"directed\": true, \"labels\": {\"0\": {\"text\": 10}}}, \"18-10\": {\"source\": \"18\", \"target\": \"10\", \"directed\": true, \"labels\": {\"0\": {\"text\": 3}}}, \"18-11\": {\"source\": \"18\", \"target\": \"11\", \"directed\": true, \"labels\": {\"0\": {\"text\": 2}}}, \"18-17\": {\"source\": \"18\", \"target\": \"17\", \"directed\": true, \"labels\": {\"0\": {\"text\": 3}}}, \"19-0\": {\"source\": \"19\", \"target\": \"0\", \"directed\": true, \"labels\": {\"0\": {\"text\": 2}}}, \"19-1\": {\"source\": \"19\", \"target\": \"1\", \"directed\": true, \"labels\": {\"0\": {\"text\": 9}}}, \"19-4\": {\"source\": \"19\", \"target\": \"4\", \"directed\": true, \"labels\": {\"0\": {\"text\": 8}}}, \"19-5\": {\"source\": \"19\", \"target\": \"5\", \"directed\": true, \"labels\": {\"0\": {\"text\": 9}}}}}}"
            ],
            "layout": "IPY_MODEL_c40e06809a4648bda1d2d8c369d87dfd",
            "show_buttons": false
          }
        },
        "c40e06809a4648bda1d2d8c369d87dfd": {
          "model_module": "@jupyter-widgets/base",
          "model_name": "LayoutModel",
          "model_module_version": "1.2.0",
          "state": {
            "_model_module": "@jupyter-widgets/base",
            "_model_module_version": "1.2.0",
            "_model_name": "LayoutModel",
            "_view_count": null,
            "_view_module": "@jupyter-widgets/base",
            "_view_module_version": "1.2.0",
            "_view_name": "LayoutView",
            "align_content": null,
            "align_items": null,
            "align_self": null,
            "border": null,
            "bottom": null,
            "display": null,
            "flex": null,
            "flex_flow": null,
            "grid_area": null,
            "grid_auto_columns": null,
            "grid_auto_flow": null,
            "grid_auto_rows": null,
            "grid_column": null,
            "grid_gap": null,
            "grid_row": null,
            "grid_template_areas": null,
            "grid_template_columns": null,
            "grid_template_rows": null,
            "height": null,
            "justify_content": null,
            "justify_items": null,
            "left": null,
            "margin": null,
            "max_height": null,
            "max_width": null,
            "min_height": null,
            "min_width": null,
            "object_fit": null,
            "object_position": null,
            "order": null,
            "overflow": null,
            "overflow_x": null,
            "overflow_y": null,
            "padding": null,
            "right": null,
            "top": null,
            "visibility": null,
            "width": null
          }
        },
        "30bbe29e880d46289fec483b6a4a3ab4": {
          "model_module": "algorithmx-jupyter",
          "model_name": "AlgorithmXModel",
          "model_module_version": "^3.0.0",
          "state": {
            "_dom_classes": [],
            "_model_module": "algorithmx-jupyter",
            "_model_module_version": "^3.0.0",
            "_model_name": "AlgorithmXModel",
            "_view_count": null,
            "_view_module": "algorithmx-jupyter",
            "_view_module_version": "^3.0.0",
            "_view_name": "AlgorithmXView",
            "events": [
              "{\"attrs\": {\"nodes\": {\"0\": {}, \"1\": {}, \"2\": {}, \"3\": {}, \"4\": {}, \"5\": {}, \"6\": {}, \"7\": {}, \"8\": {}, \"9\": {}}}}",
              "{\"attrs\": {\"nodes\": {\"0\": {\"color\": \"orange\"}, \"1\": {\"color\": \"yellow\"}, \"2\": {\"color\": \"orange\"}, \"3\": {\"color\": \"yellow\"}, \"4\": {\"color\": \"red\"}, \"5\": {\"color\": \"red\"}, \"6\": {\"color\": \"red\"}, \"7\": {\"color\": \"yellow\"}, \"8\": {\"color\": \"orange\"}, \"9\": {\"color\": \"yellow\"}}}, \"animation\": {\"duration\": 0}}",
              "{\"attrs\": {\"edges\": {\"0-1\": {\"source\": \"0\", \"target\": \"1\"}, \"0-3\": {\"source\": \"0\", \"target\": \"3\"}, \"0-4\": {\"source\": \"0\", \"target\": \"4\"}, \"1-4\": {\"source\": \"1\", \"target\": \"4\"}, \"1-8\": {\"source\": \"1\", \"target\": \"8\"}, \"2-3\": {\"source\": \"2\", \"target\": \"3\"}, \"2-4\": {\"source\": \"2\", \"target\": \"4\"}, \"2-5\": {\"source\": \"2\", \"target\": \"5\"}, \"2-6\": {\"source\": \"2\", \"target\": \"6\"}, \"2-7\": {\"source\": \"2\", \"target\": \"7\"}, \"3-4\": {\"source\": \"3\", \"target\": \"4\"}, \"3-6\": {\"source\": \"3\", \"target\": \"6\"}, \"4-8\": {\"source\": \"4\", \"target\": \"8\"}, \"4-9\": {\"source\": \"4\", \"target\": \"9\"}, \"6-7\": {\"source\": \"6\", \"target\": \"7\"}, \"8-9\": {\"source\": \"8\", \"target\": \"9\"}}}}",
              "{\"attrs\": {\"edges\": {\"0-1\": {\"labels\": {\"0\": {\"text\": 10}}}, \"0-3\": {\"labels\": {\"0\": {\"text\": 3}}}, \"0-4\": {\"labels\": {\"0\": {\"text\": 10}}}, \"1-4\": {\"labels\": {\"0\": {\"text\": 9}}}, \"1-8\": {\"labels\": {\"0\": {\"text\": 9}}}, \"2-3\": {\"labels\": {\"0\": {\"text\": 6}}}, \"2-4\": {\"labels\": {\"0\": {\"text\": 1}}}, \"2-5\": {\"labels\": {\"0\": {\"text\": 3}}}, \"2-6\": {\"labels\": {\"0\": {\"text\": 9}}}, \"2-7\": {\"labels\": {\"0\": {\"text\": 5}}}, \"3-4\": {\"labels\": {\"0\": {\"text\": 5}}}, \"3-6\": {\"labels\": {\"0\": {\"text\": 3}}}, \"4-8\": {\"labels\": {\"0\": {\"text\": 10}}}, \"4-9\": {\"labels\": {\"0\": {\"text\": 3}}}, \"6-7\": {\"labels\": {\"0\": {\"text\": 7}}}, \"8-9\": {\"labels\": {\"0\": {\"text\": 2}}}}}, \"animation\": {\"duration\": 0}}",
              "{\"attrs\": {\"edges\": {\"0-1\": {\"labels\": {\"centrality\": {\"color\": \"blue\", \"text\": \"0.07\"}}}, \"0-3\": {\"labels\": {\"centrality\": {\"color\": \"blue\", \"text\": \"0.22\"}}}, \"0-4\": {\"labels\": {\"centrality\": {\"color\": \"blue\", \"text\": \"0.00\"}}}, \"1-4\": {\"labels\": {\"centrality\": {\"color\": \"blue\", \"text\": \"0.09\"}}}, \"1-8\": {\"labels\": {\"centrality\": {\"color\": \"blue\", \"text\": \"0.04\"}}}, \"2-3\": {\"labels\": {\"centrality\": {\"color\": \"blue\", \"text\": \"0.06\"}}}, \"2-4\": {\"labels\": {\"centrality\": {\"color\": \"blue\", \"text\": \"0.33\"}}}, \"2-5\": {\"labels\": {\"centrality\": {\"color\": \"blue\", \"text\": \"0.20\"}}}, \"2-6\": {\"labels\": {\"centrality\": {\"color\": \"blue\", \"text\": \"0.01\"}}}, \"2-7\": {\"labels\": {\"centrality\": {\"color\": \"blue\", \"text\": \"0.13\"}}}, \"3-4\": {\"labels\": {\"centrality\": {\"color\": \"blue\", \"text\": \"0.26\"}}}, \"3-6\": {\"labels\": {\"centrality\": {\"color\": \"blue\", \"text\": \"0.21\"}}}, \"4-8\": {\"labels\": {\"centrality\": {\"color\": \"blue\", \"text\": \"0.00\"}}}, \"4-9\": {\"labels\": {\"centrality\": {\"color\": \"blue\", \"text\": \"0.31\"}}}, \"6-7\": {\"labels\": {\"centrality\": {\"color\": \"blue\", \"text\": \"0.07\"}}}, \"8-9\": {\"labels\": {\"centrality\": {\"color\": \"blue\", \"text\": \"0.20\"}}}}}, \"animation\": {\"duration\": 0}}"
            ],
            "layout": "IPY_MODEL_b170d53f7e3640f2853c030d777a29b0",
            "show_buttons": false
          }
        },
        "b170d53f7e3640f2853c030d777a29b0": {
          "model_module": "@jupyter-widgets/base",
          "model_name": "LayoutModel",
          "model_module_version": "1.2.0",
          "state": {
            "_model_module": "@jupyter-widgets/base",
            "_model_module_version": "1.2.0",
            "_model_name": "LayoutModel",
            "_view_count": null,
            "_view_module": "@jupyter-widgets/base",
            "_view_module_version": "1.2.0",
            "_view_name": "LayoutView",
            "align_content": null,
            "align_items": null,
            "align_self": null,
            "border": null,
            "bottom": null,
            "display": null,
            "flex": null,
            "flex_flow": null,
            "grid_area": null,
            "grid_auto_columns": null,
            "grid_auto_flow": null,
            "grid_auto_rows": null,
            "grid_column": null,
            "grid_gap": null,
            "grid_row": null,
            "grid_template_areas": null,
            "grid_template_columns": null,
            "grid_template_rows": null,
            "height": null,
            "justify_content": null,
            "justify_items": null,
            "left": null,
            "margin": null,
            "max_height": null,
            "max_width": null,
            "min_height": null,
            "min_width": null,
            "object_fit": null,
            "object_position": null,
            "order": null,
            "overflow": null,
            "overflow_x": null,
            "overflow_y": null,
            "padding": null,
            "right": null,
            "top": null,
            "visibility": null,
            "width": null
          }
        }
      }
    }
  },
  "cells": [
    {
      "cell_type": "markdown",
      "metadata": {
        "id": "view-in-github",
        "colab_type": "text"
      },
      "source": [
        "<a href=\"https://colab.research.google.com/github/Arunimad/CCIR_NetworkScience/blob/main/TA4_AlgoX.ipynb\" target=\"_parent\"><img src=\"https://colab.research.google.com/assets/colab-badge.svg\" alt=\"Open In Colab\"/></a>"
      ]
    },
    {
      "cell_type": "markdown",
      "source": [
        "**NetowrkX and AlgorithmX**"
      ],
      "metadata": {
        "id": "kEM4-QKMmqIO"
      }
    },
    {
      "cell_type": "code",
      "source": [
        "pip install networkx"
      ],
      "metadata": {
        "id": "wl52cGvLyQwX",
        "colab": {
          "base_uri": "https://localhost:8080/"
        },
        "outputId": "484433eb-2559-477d-86c8-cb8febc8b660"
      },
      "execution_count": null,
      "outputs": [
        {
          "output_type": "stream",
          "name": "stdout",
          "text": [
            "Requirement already satisfied: networkx in /usr/local/lib/python3.11/dist-packages (3.5)\n"
          ]
        }
      ]
    },
    {
      "cell_type": "code",
      "execution_count": null,
      "metadata": {
        "id": "x1gyrTInjXDC"
      },
      "outputs": [],
      "source": [
        "import networkx as nx"
      ]
    },
    {
      "cell_type": "code",
      "source": [
        "G = nx.Graph()\n",
        "\n",
        "nx.add_path(G, [1, 2, 3])\n",
        "nx.add_path(G, [4, 2, 5])\n",
        "\n",
        "print('Nodes:', G.nodes)\n",
        "print('Edges:', G.edges)"
      ],
      "metadata": {
        "id": "y_Gf85i4lMg0",
        "outputId": "471e09de-9b28-4ed9-c55f-c7c18900d9fb",
        "colab": {
          "base_uri": "https://localhost:8080/"
        }
      },
      "execution_count": null,
      "outputs": [
        {
          "output_type": "stream",
          "name": "stdout",
          "text": [
            "Nodes: [1, 2, 3, 4, 5]\n",
            "Edges: [(1, 2), (2, 3), (2, 4), (2, 5)]\n"
          ]
        }
      ]
    },
    {
      "cell_type": "code",
      "source": [
        "import matplotlib.pyplot as plt\n",
        "nx.draw(G)\n",
        "plt.show()"
      ],
      "metadata": {
        "colab": {
          "base_uri": "https://localhost:8080/",
          "height": 516
        },
        "id": "9mYnrFN-diCu",
        "outputId": "b3e6622a-5188-4b9f-d463-e5124892f5a9"
      },
      "execution_count": null,
      "outputs": [
        {
          "output_type": "display_data",
          "data": {
            "text/plain": [
              "<Figure size 640x480 with 1 Axes>"
            ],
            "image/png": "[encoded data removed]"
          },
          "metadata": {}
        }
      ]
    },
    {
      "cell_type": "code",
      "source": [
        "pip install algorithmx"
      ],
      "metadata": {
        "id": "xT3zn6KGlSpV",
        "colab": {
          "base_uri": "https://localhost:8080/"
        },
        "outputId": "7b822eab-c3bb-4033-92dd-e80b2bcd4c68"
      },
      "execution_count": null,
      "outputs": [
        {
          "output_type": "stream",
          "name": "stdout",
          "text": [
            "Collecting algorithmx\n",
            "  Downloading algorithmx-2.0.3-py3-none-any.whl.metadata (4.3 kB)\n",
            "Downloading algorithmx-2.0.3-py3-none-any.whl (1.6 MB)\n",
            "\u001b[?25l   \u001b[90m━━━━━━━━━━━━━━━━━━━━━━━━━━━━━━━━━━━━━━━━\u001b[0m \u001b[32m0.0/1.6 MB\u001b[0m \u001b[31m?\u001b[0m eta \u001b[36m-:--:--\u001b[0m\r\u001b[2K   \u001b[91m━━\u001b[0m\u001b[91m╸\u001b[0m\u001b[90m━━━━━━━━━━━━━━━━━━━━━━━━━━━━━━━━━━━━━\u001b[0m \u001b[32m0.1/1.6 MB\u001b[0m \u001b[31m3.2 MB/s\u001b[0m eta \u001b[36m0:00:01\u001b[0m\r\u001b[2K   \u001b[91m━━━━━━━━━━━━━━━━━━━━\u001b[0m\u001b[90m╺\u001b[0m\u001b[90m━━━━━━━━━━━━━━━━━━━\u001b[0m \u001b[32m0.8/1.6 MB\u001b[0m \u001b[31m11.5 MB/s\u001b[0m eta \u001b[36m0:00:01\u001b[0m\r\u001b[2K   \u001b[90m━━━━━━━━━━━━━━━━━━━━━━━━━━━━━━━━━━━━━━━━\u001b[0m \u001b[32m1.6/1.6 MB\u001b[0m \u001b[31m15.6 MB/s\u001b[0m eta \u001b[36m0:00:00\u001b[0m\n",
            "\u001b[?25hInstalling collected packages: algorithmx\n",
            "Successfully installed algorithmx-2.0.3\n"
          ]
        }
      ]
    },
    {
      "cell_type": "code",
      "source": [
        "pip --version"
      ],
      "metadata": {
        "id": "2Tqt5H-ySNGv"
      },
      "execution_count": null,
      "outputs": []
    },
    {
      "cell_type": "code",
      "source": [
        "from google.colab import output\n",
        "output.enable_custom_widget_manager()"
      ],
      "metadata": {
        "id": "gnev4v1_lYqk"
      },
      "execution_count": null,
      "outputs": []
    },
    {
      "cell_type": "code",
      "source": [
        "##No use. Only use it when the above lines are not working\n",
        "\n",
        "from google.colab import output\n",
        "output.disable_custom_widget_manager()"
      ],
      "metadata": {
        "id": "cRnVXNqDkbvV"
      },
      "execution_count": null,
      "outputs": []
    },
    {
      "cell_type": "code",
      "source": [
        "from algorithmx import jupyter_canvas"
      ],
      "metadata": {
        "id": "joeCZG47Qu8u"
      },
      "execution_count": null,
      "outputs": []
    },
    {
      "cell_type": "code",
      "source": [
        "\n",
        "canvas = jupyter_canvas()\n",
        "\n",
        "canvas.nodes(G.nodes).add()\n",
        "canvas.edges(G.edges).add()\n",
        "\n",
        "canvas"
      ],
      "metadata": {
        "id": "NO9zuLOElPBM",
        "outputId": "e09aa47b-6e97-43ca-b541-d587c932d445",
        "colab": {
          "base_uri": "https://localhost:8080/",
          "height": 271,
          "referenced_widgets": [
            "39aca873df5245419254392af83da7e9",
            "9a2189bbfd0e4ec8b09c70290498ba74"
          ]
        }
      },
      "execution_count": null,
      "outputs": [
        {
          "output_type": "display_data",
          "data": {
            "text/plain": [
              "JupyterWidget(events=['{\"attrs\": {\"nodes\": {\"1\": {}, \"2\": {}, \"3\": {}, \"4\": {}, \"5\": {}}}}', '{\"attrs\": {\"edge…"
            ],
            "application/vnd.jupyter.widget-view+json": {
              "version_major": 2,
              "version_minor": 0,
              "model_id": "39aca873df5245419254392af83da7e9"
            }
          },
          "metadata": {
            "application/vnd.jupyter.widget-view+json": {
              "colab": {
                "custom_widget_manager": {
                  "url": "https://ssl.gstatic.com/colaboratory-static/widgets/colab-cdn-widget-manager/2b70e893a8ba7c0f/manager.min.js"
                }
              }
            }
          }
        }
      ]
    },
    {
      "cell_type": "code",
      "source": [
        "display(canvas)"
      ],
      "metadata": {
        "id": "2UJmdi_IJB76"
      },
      "execution_count": null,
      "outputs": []
    },
    {
      "cell_type": "code",
      "source": [
        "canvas = jupyter_canvas()\n",
        "\n",
        "node_colors = {1: 'red', 2: 'green', 3: 'blue', 4: 'orange', 5: 'purple'}\n",
        "\n",
        "canvas.nodes(G.nodes).add(\n",
        "    shape='rect',\n",
        "    size=(20, 12),\n",
        "    color=lambda n: node_colors[n]\n",
        ")\n",
        "canvas.edges(G.edges).add()\n",
        "\n",
        "canvas"
      ],
      "metadata": {
        "id": "_7U2FiPOlmEF",
        "colab": {
          "base_uri": "https://localhost:8080/",
          "height": 271,
          "referenced_widgets": [
            "026aca418e3b49da88bb8f7dceb5a5dc",
            "36d9345962484aa0b7055f4ff9d5865c"
          ]
        },
        "outputId": "308a9a9f-6966-4a1c-aafb-a8ed2704472f"
      },
      "execution_count": null,
      "outputs": [
        {
          "output_type": "display_data",
          "data": {
            "text/plain": [
              "JupyterWidget(events=['{\"attrs\": {\"nodes\": {\"1\": {\"shape\": \"rect\", \"size\": [20, 12], \"color\": \"red\"}, \"2\": {\"s…"
            ],
            "application/vnd.jupyter.widget-view+json": {
              "version_major": 2,
              "version_minor": 0,
              "model_id": "026aca418e3b49da88bb8f7dceb5a5dc"
            }
          },
          "metadata": {
            "application/vnd.jupyter.widget-view+json": {
              "colab": {
                "custom_widget_manager": {
                  "url": "https://ssl.gstatic.com/colaboratory-static/widgets/colab-cdn-widget-manager/2b70e893a8ba7c0f/manager.min.js"
                }
              }
            }
          }
        }
      ]
    },
    {
      "cell_type": "markdown",
      "source": [
        "**Weighted and Directed Graphs**"
      ],
      "metadata": {
        "id": "PXRc7VoHloyG"
      }
    },
    {
      "cell_type": "markdown",
      "source": [
        "Directed graph\n",
        "\n",
        "A directed graph, also called a digraph, is a graph in which the edges have a direction. This is usually indicated with an arrow on the edge; more formally, if v and w are vertices, an edge is an unordered pair {v,w}, while a directed edge, called an arc, is an ordered pair (v,w) or (w,v)."
      ],
      "metadata": {
        "id": "-YoHqABLlzs2"
      }
    },
    {
      "cell_type": "code",
      "source": [
        "G = nx.DiGraph()\n",
        "\n",
        "G.add_nodes_from([1, 2, 3])\n",
        "G.add_edges_from([(1, 2), (2,1),(2, 3), (3, 1)])\n",
        "\n",
        "canvas = jupyter_canvas()\n",
        "\n",
        "canvas.nodes(G.nodes).add()\n",
        "canvas.edges(G.edges).add(directed=True)\n",
        "\n",
        "canvas"
      ],
      "metadata": {
        "id": "B3IaADeXlp8G",
        "colab": {
          "base_uri": "https://localhost:8080/",
          "height": 271,
          "referenced_widgets": [
            "30b16dcabdc0475aa889ac21025259ec",
            "390e781098bd42b1a19b4dc21739a1a0"
          ]
        },
        "outputId": "afd55d43-e4c2-43ce-ee87-73984171d1bf"
      },
      "execution_count": null,
      "outputs": [
        {
          "output_type": "display_data",
          "data": {
            "text/plain": [
              "JupyterWidget(events=['{\"attrs\": {\"nodes\": {\"1\": {}, \"2\": {}, \"3\": {}}}}', '{\"attrs\": {\"edges\": {\"1-2\": {\"sour…"
            ],
            "application/vnd.jupyter.widget-view+json": {
              "version_major": 2,
              "version_minor": 0,
              "model_id": "30b16dcabdc0475aa889ac21025259ec"
            }
          },
          "metadata": {
            "application/vnd.jupyter.widget-view+json": {
              "colab": {
                "custom_widget_manager": {
                  "url": "https://ssl.gstatic.com/colaboratory-static/widgets/colab-cdn-widget-manager/2b70e893a8ba7c0f/manager.min.js"
                }
              }
            }
          }
        }
      ]
    },
    {
      "cell_type": "markdown",
      "source": [
        "Adding weight:\n",
        "To create wighted graph, we will first ensure that our NetworkX edges have a ‘weight’ attribute. Then, we will add a label to each edge displaying the attribute."
      ],
      "metadata": {
        "id": "Wf5rPiPpl6Eh"
      }
    },
    {
      "cell_type": "code",
      "source": [
        "G = nx.Graph()\n",
        "\n",
        "G.add_nodes_from([1, 2, 3])\n",
        "G.add_weighted_edges_from([(1, 2, 4), (2, 3, 0.2), (3, 1, 0.3)])\n",
        "\n",
        "canvas = jupyter_canvas()\n",
        "\n",
        "canvas.nodes(G.nodes).add()\n",
        "canvas.edges(G.edges).add(\n",
        "    labels=lambda e: {0: {'text': G.edges[e]['weight']}}\n",
        ")\n",
        "\n",
        "canvas"
      ],
      "metadata": {
        "id": "nSSct1Xel5bz",
        "colab": {
          "base_uri": "https://localhost:8080/",
          "height": 271,
          "referenced_widgets": [
            "39b169b1e6434db69846927d2d53b4a5",
            "6aaa6e532b2c4493bb373c37acf6904b"
          ]
        },
        "outputId": "c74eb4a2-b8db-491a-f552-8ef9cb4131c7"
      },
      "execution_count": null,
      "outputs": [
        {
          "output_type": "display_data",
          "data": {
            "text/plain": [
              "JupyterWidget(events=['{\"attrs\": {\"nodes\": {\"1\": {}, \"2\": {}, \"3\": {}}}}', '{\"attrs\": {\"edges\": {\"1-2\": {\"sour…"
            ],
            "application/vnd.jupyter.widget-view+json": {
              "version_major": 2,
              "version_minor": 0,
              "model_id": "39b169b1e6434db69846927d2d53b4a5"
            }
          },
          "metadata": {
            "application/vnd.jupyter.widget-view+json": {
              "colab": {
                "custom_widget_manager": {
                  "url": "https://ssl.gstatic.com/colaboratory-static/widgets/colab-cdn-widget-manager/2b70e893a8ba7c0f/manager.min.js"
                }
              }
            }
          }
        }
      ]
    },
    {
      "cell_type": "markdown",
      "source": [
        "AlgortihmX feature"
      ],
      "metadata": {
        "id": "9E4pgWYNmI3c"
      }
    },
    {
      "cell_type": "code",
      "source": [
        "from algorithmx.networkx import add_graph\n",
        "\n",
        "canvas = jupyter_canvas()\n",
        "add_graph(canvas, G)\n",
        "\n",
        "canvas"
      ],
      "metadata": {
        "id": "x8WjtcV0mLPD",
        "colab": {
          "base_uri": "https://localhost:8080/",
          "height": 271,
          "referenced_widgets": [
            "6b463bf74de345c3b2ae70801aedc4c8",
            "5244dfc6a9794b61abebfa59d016ffd7"
          ]
        },
        "outputId": "9c30272a-56b8-4488-82d3-3242b57ff17e"
      },
      "execution_count": null,
      "outputs": [
        {
          "output_type": "display_data",
          "data": {
            "text/plain": [
              "JupyterWidget(events=['{\"attrs\": {\"nodes\": {\"1\": {}, \"2\": {}, \"3\": {}}}}', '{\"attrs\": {\"edges\": {\"1-2\": {\"sour…"
            ],
            "application/vnd.jupyter.widget-view+json": {
              "version_major": 2,
              "version_minor": 0,
              "model_id": "6b463bf74de345c3b2ae70801aedc4c8"
            }
          },
          "metadata": {
            "application/vnd.jupyter.widget-view+json": {
              "colab": {
                "custom_widget_manager": {
                  "url": "https://ssl.gstatic.com/colaboratory-static/widgets/colab-cdn-widget-manager/2b70e893a8ba7c0f/manager.min.js"
                }
              }
            }
          }
        }
      ]
    },
    {
      "cell_type": "code",
      "source": [
        "G = nx.Graph()\n",
        "\n",
        "G.add_nodes_from([1, 2, 3])\n",
        "G.add_weighted_edges_from([(1, 2, 4), (2, 3, 0.2), (3, 1, 0.3)])\n",
        "\n",
        "canvas = jupyter_canvas()\n",
        "add_graph(canvas,G)\n",
        "\n"
      ],
      "metadata": {
        "id": "V4uSBKIaoZ2h",
        "colab": {
          "base_uri": "https://localhost:8080/",
          "height": 271,
          "referenced_widgets": [
            "4c153489bb3e4b90a91c3057352daf1c",
            "c5025fd1271f4dbe9f9e35aee564a9c0"
          ]
        },
        "outputId": "8a76e526-d544-4653-f071-04e176b87981"
      },
      "execution_count": null,
      "outputs": [
        {
          "output_type": "display_data",
          "data": {
            "text/plain": [
              "JupyterWidget(events=['{\"attrs\": {\"nodes\": {\"1\": {}, \"2\": {}, \"3\": {}}}}', '{\"attrs\": {\"edges\": {\"1-2\": {\"sour…"
            ],
            "application/vnd.jupyter.widget-view+json": {
              "version_major": 2,
              "version_minor": 0,
              "model_id": "4c153489bb3e4b90a91c3057352daf1c"
            }
          },
          "metadata": {
            "application/vnd.jupyter.widget-view+json": {
              "colab": {
                "custom_widget_manager": {
                  "url": "https://ssl.gstatic.com/colaboratory-static/widgets/colab-cdn-widget-manager/2b70e893a8ba7c0f/manager.min.js"
                }
              }
            }
          }
        }
      ]
    },
    {
      "cell_type": "code",
      "source": [
        "G = nx.Graph()\n",
        "\n",
        "nx.add_path(G,[1,2,3])\n",
        "#G.add_nodes_from([1, 2, 3])\n",
        "#G.add_weighted_edges_from([(1, 2, 4), (2, 3, 0.2), (3, 1, 0.3)])\n",
        "\n",
        "canvas = jupyter_canvas()\n",
        "add_graph(canvas,G)"
      ],
      "metadata": {
        "id": "rJGc6vZ42BTo",
        "colab": {
          "base_uri": "https://localhost:8080/",
          "height": 271,
          "referenced_widgets": [
            "36d40cba5081455eb69b45330288365c",
            "8f34bec2834d48ca92cbe246c5cde36b"
          ]
        },
        "outputId": "9c5b45a5-2ffe-4a06-e625-2fcd8e078bc3"
      },
      "execution_count": null,
      "outputs": [
        {
          "output_type": "display_data",
          "data": {
            "text/plain": [
              "JupyterWidget(events=['{\"attrs\": {\"nodes\": {\"1\": {}, \"2\": {}, \"3\": {}}}}', '{\"attrs\": {\"edges\": {\"1-2\": {\"sour…"
            ],
            "application/vnd.jupyter.widget-view+json": {
              "version_major": 2,
              "version_minor": 0,
              "model_id": "36d40cba5081455eb69b45330288365c"
            }
          },
          "metadata": {
            "application/vnd.jupyter.widget-view+json": {
              "colab": {
                "custom_widget_manager": {
                  "url": "https://ssl.gstatic.com/colaboratory-static/widgets/colab-cdn-widget-manager/2b70e893a8ba7c0f/manager.min.js"
                }
              }
            }
          }
        }
      ]
    },
    {
      "cell_type": "markdown",
      "source": [
        "**Random graphs**"
      ],
      "metadata": {
        "id": "aTHj0n3qmU8O"
      }
    },
    {
      "cell_type": "code",
      "source": [
        "G = nx.gnp_random_graph(20, 0.3, 5)\n",
        "\n",
        "canvas = jupyter_canvas()\n",
        "canvas.nodes(G.nodes).add()\n",
        "canvas.edges(G.edges).add()\n",
        "\n",
        "canvas"
      ],
      "metadata": {
        "id": "ru2CNRk9mXw5",
        "colab": {
          "base_uri": "https://localhost:8080/",
          "height": 271,
          "referenced_widgets": [
            "bd051172ac0e485384bef30019ec5187",
            "09350f07b8854eb59b269fe5af65360f"
          ]
        },
        "outputId": "206d1410-0e21-4dfb-ea6d-c98d8b825640"
      },
      "execution_count": null,
      "outputs": [
        {
          "output_type": "display_data",
          "data": {
            "text/plain": [
              "JupyterWidget(events=['{\"attrs\": {\"nodes\": {\"0\": {}, \"1\": {}, \"2\": {}, \"3\": {}, \"4\": {}, \"5\": {}, \"6\": {}, \"7\"…"
            ],
            "application/vnd.jupyter.widget-view+json": {
              "version_major": 2,
              "version_minor": 0,
              "model_id": "bd051172ac0e485384bef30019ec5187"
            }
          },
          "metadata": {
            "application/vnd.jupyter.widget-view+json": {
              "colab": {
                "custom_widget_manager": {
                  "url": "https://ssl.gstatic.com/colaboratory-static/widgets/colab-cdn-widget-manager/2b70e893a8ba7c0f/manager.min.js"
                }
              }
            }
          }
        }
      ]
    },
    {
      "cell_type": "markdown",
      "source": [
        "To make the graph directed, we will simply use G.to_directed. To make the graph weighted, we will need to configure a weight attribute for each edge. Since our graph is random, we’ll make our edge weights random as well."
      ],
      "metadata": {
        "id": "dt1CESljma2g"
      }
    },
    {
      "cell_type": "code",
      "source": [
        "from random import randint\n",
        "\n",
        "G = G.to_directed()\n",
        "nx.set_edge_attributes(G, {e: {'weight': randint(1, 10)} for e in G.edges})\n",
        "canvas = jupyter_canvas()\n",
        "add_graph(canvas, G)"
      ],
      "metadata": {
        "id": "XO_3UudZmZh1",
        "colab": {
          "base_uri": "https://localhost:8080/",
          "height": 271,
          "referenced_widgets": [
            "12fe8db23be14830b2221285d581fc23",
            "c40e06809a4648bda1d2d8c369d87dfd"
          ]
        },
        "outputId": "404e020e-cde3-444e-a01b-95ae3353d9e7"
      },
      "execution_count": null,
      "outputs": [
        {
          "output_type": "display_data",
          "data": {
            "text/plain": [
              "JupyterWidget(events=['{\"attrs\": {\"nodes\": {\"0\": {}, \"1\": {}, \"2\": {}, \"3\": {}, \"4\": {}, \"5\": {}, \"6\": {}, \"7\"…"
            ],
            "application/vnd.jupyter.widget-view+json": {
              "version_major": 2,
              "version_minor": 0,
              "model_id": "12fe8db23be14830b2221285d581fc23"
            }
          },
          "metadata": {
            "application/vnd.jupyter.widget-view+json": {
              "colab": {
                "custom_widget_manager": {
                  "url": "https://ssl.gstatic.com/colaboratory-static/widgets/colab-cdn-widget-manager/2b70e893a8ba7c0f/manager.min.js"
                }
              }
            }
          }
        }
      ]
    },
    {
      "cell_type": "markdown",
      "source": [
        "**Detailed graph**"
      ],
      "metadata": {
        "id": "jQM2Okiimwy6"
      }
    },
    {
      "cell_type": "markdown",
      "source": [
        "Now we are going to create a graph that displays a range of interesting properties. Let’s begin by generating a random weighted graph, as before."
      ],
      "metadata": {
        "id": "v57Ws1G0m0gK"
      }
    },
    {
      "cell_type": "code",
      "source": [
        "from random import randint\n",
        "G = nx.gnp_random_graph(10, 0.3, 201)\n",
        "nx.set_edge_attributes(G, {e: {'weight': randint(1,10)} for e in G.edges})"
      ],
      "metadata": {
        "id": "zMyOjij1m1J4"
      },
      "execution_count": null,
      "outputs": []
    },
    {
      "cell_type": "markdown",
      "source": [
        "Next, we will use NetworkX to calculate the graph’s coloring and edge centrality."
      ],
      "metadata": {
        "id": "cFO5arDSnSsO"
      }
    },
    {
      "cell_type": "code",
      "source": [
        "coloring = nx.greedy_color(G)\n",
        "centrality = nx.edge_betweenness_centrality(G, weight='weight', normalized=True)"
      ],
      "metadata": {
        "id": "VnbXqV2AnUCm"
      },
      "execution_count": null,
      "outputs": []
    },
    {
      "cell_type": "markdown",
      "source": [
        "We can now begin displaying the graph. First, we will add the nodes and assign them a color based on their calculated priority. We happen to know that any planar graph requires at most 4 different colors, and so we prepare these beforehand."
      ],
      "metadata": {
        "id": "QWpXQNzunI2a"
      }
    },
    {
      "cell_type": "code",
      "source": [
        "canvas = jupyter_canvas()\n",
        "\n",
        "color_priority = {0: 'red', 1: 'orange', 2: 'yellow', 3: 'green'}\n",
        "\n",
        "canvas.nodes(G.nodes).add() \\\n",
        "    .color(lambda n: color_priority[coloring[n]])\n",
        "\n",
        "print(coloring)"
      ],
      "metadata": {
        "id": "QHAUaHZOnLGd",
        "colab": {
          "base_uri": "https://localhost:8080/",
          "height": 35
        },
        "outputId": "6d63c94b-d042-459b-f5a0-a544896c9285"
      },
      "execution_count": null,
      "outputs": [
        {
          "output_type": "stream",
          "name": "stdout",
          "text": [
            "{4: 0, 2: 1, 3: 2, 0: 1, 1: 2, 6: 0, 8: 1, 7: 2, 9: 2, 5: 0}\n"
          ]
        }
      ]
    },
    {
      "cell_type": "markdown",
      "source": [
        "Afterwards, we will add the edges. Each one will have two labels; one to display it’s weight, and another to display it’s calculated centrality."
      ],
      "metadata": {
        "id": "EGTHs438nYOY"
      }
    },
    {
      "cell_type": "code",
      "source": [
        "formatted_centrality = {k: '{0:.2f}'.format(v) for k, v in centrality.items()}\n",
        "\n",
        "init_edges = canvas.edges(G.edges).add()\n",
        "\n",
        "\n",
        "init_edges.label().add(\n",
        "     text=lambda e: G.edges[e]['weight']\n",
        ")\n",
        "init_edges.label('centrality').add(\n",
        "     color='blue',\n",
        "     text=lambda e: formatted_centrality[e]\n",
        ")\n",
        "\n",
        "print(formatted_centrality)"
      ],
      "metadata": {
        "id": "zmipkfwcnYpx",
        "colab": {
          "base_uri": "https://localhost:8080/",
          "height": 55
        },
        "outputId": "ce2db4c3-eddf-4269-b14c-65a5940da72b"
      },
      "execution_count": null,
      "outputs": [
        {
          "output_type": "stream",
          "name": "stdout",
          "text": [
            "{(0, 1): '0.07', (0, 3): '0.22', (0, 4): '0.00', (1, 4): '0.09', (1, 8): '0.04', (2, 3): '0.06', (2, 4): '0.33', (2, 5): '0.20', (2, 6): '0.01', (2, 7): '0.13', (3, 4): '0.26', (3, 6): '0.21', (4, 8): '0.00', (4, 9): '0.31', (6, 7): '0.07', (8, 9): '0.20'}\n"
          ]
        }
      ]
    },
    {
      "cell_type": "markdown",
      "source": [
        "Finally, we display the whole graph."
      ],
      "metadata": {
        "id": "A8OgZIklndu7"
      }
    },
    {
      "cell_type": "code",
      "source": [
        "canvas"
      ],
      "metadata": {
        "id": "WYqVvFpQneZ5",
        "colab": {
          "base_uri": "https://localhost:8080/",
          "height": 271,
          "referenced_widgets": [
            "30bbe29e880d46289fec483b6a4a3ab4",
            "b170d53f7e3640f2853c030d777a29b0"
          ]
        },
        "outputId": "14540f2b-d1c4-4a20-d6d3-a77cc1eca4fd"
      },
      "execution_count": null,
      "outputs": [
        {
          "output_type": "display_data",
          "data": {
            "text/plain": [
              "JupyterWidget(events=['{\"attrs\": {\"nodes\": {\"0\": {}, \"1\": {}, \"2\": {}, \"3\": {}, \"4\": {}, \"5\": {}, \"6\": {}, \"7\"…"
            ],
            "application/vnd.jupyter.widget-view+json": {
              "version_major": 2,
              "version_minor": 0,
              "model_id": "30bbe29e880d46289fec483b6a4a3ab4"
            }
          },
          "metadata": {
            "application/vnd.jupyter.widget-view+json": {
              "colab": {
                "custom_widget_manager": {
                  "url": "https://ssl.gstatic.com/colaboratory-static/widgets/colab-cdn-widget-manager/2b70e893a8ba7c0f/manager.min.js"
                }
              }
            }
          }
        }
      ]
    },
    {
      "cell_type": "code",
      "source": [
        "#clusdtering for single node\n",
        "print(nx.clustering(G))\n",
        "nx.average_clustering(G)"
      ],
      "metadata": {
        "id": "XhVtS1H60-SS"
      },
      "execution_count": null,
      "outputs": []
    },
    {
      "cell_type": "markdown",
      "source": [
        "**Minimum spanning tree**"
      ],
      "metadata": {
        "id": "OlXftdWet3i6"
      }
    },
    {
      "cell_type": "markdown",
      "source": [
        "https://www.tutorialspoint.com/parallel_algorithm/graph_algorithm.htm\n",
        "\n",
        "https://www.geeksforgeeks.org/prims-minimum-spanning-tree-mst-greedy-algo-5/\n",
        "\n",
        "https://www.geeksforgeeks.org/kruskals-minimum-spanning-tree-algorithm-greedy-algo-2/\n",
        "\n"
      ],
      "metadata": {
        "id": "N0OLkAyDt6Rj"
      }
    }
  ]
}