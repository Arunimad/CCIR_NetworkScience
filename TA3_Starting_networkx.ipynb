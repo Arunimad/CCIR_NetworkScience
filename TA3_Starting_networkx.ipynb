{
  "nbformat": 4,
  "nbformat_minor": 0,
  "metadata": {
    "colab": {
      "provenance": [],
      "include_colab_link": true
    },
    "kernelspec": {
      "name": "python3",
      "display_name": "Python 3"
    },
    "language_info": {
      "name": "python"
    }
  },
  "cells": [
    {
      "cell_type": "markdown",
      "metadata": {
        "id": "view-in-github",
        "colab_type": "text"
      },
      "source": [
        "<a href=\"https://colab.research.google.com/github/Arunimad/CCIR_NetworkScience/blob/main/TA3_Starting_networkx.ipynb\" target=\"_parent\"><img src=\"https://colab.research.google.com/assets/colab-badge.svg\" alt=\"Open In Colab\"/></a>"
      ]
    },
    {
      "cell_type": "markdown",
      "source": [
        "**NetworkX quick tutorial**"
      ],
      "metadata": {
        "id": "JWGjlSeymCmX"
      }
    },
    {
      "cell_type": "markdown",
      "source": [
        "If the NetworkX package is not installed in your system, you have to install it at first. You can use the following command to install it."
      ],
      "metadata": {
        "id": "2lHg4c1pm8CN"
      }
    },
    {
      "cell_type": "code",
      "execution_count": null,
      "metadata": {
        "id": "m4hCHKjBmAgl",
        "colab": {
          "base_uri": "https://localhost:8080/"
        },
        "outputId": "ffca23b0-e23a-44f1-82bb-84aaf6f3f1e9"
      },
      "outputs": [
        {
          "output_type": "stream",
          "name": "stdout",
          "text": [
            "Requirement already satisfied: networkx in /usr/local/lib/python3.11/dist-packages (3.5)\n"
          ]
        }
      ],
      "source": [
        "pip install networkx"
      ]
    },
    {
      "cell_type": "code",
      "source": [
        "pip3 install networkx"
      ],
      "metadata": {
        "id": "f_HSjzOxPT70"
      },
      "execution_count": null,
      "outputs": []
    },
    {
      "cell_type": "markdown",
      "source": [
        "pip3 or pip depending upon python version"
      ],
      "metadata": {
        "id": "lCkZuyM4m8_h"
      }
    },
    {
      "cell_type": "code",
      "source": [
        "import networkx as nx"
      ],
      "metadata": {
        "id": "b6wpU3hbmQvZ"
      },
      "execution_count": null,
      "outputs": []
    },
    {
      "cell_type": "markdown",
      "source": [
        "Now, the ‘networkx’ module is available with the alias ‘nx’. You can use any alias names, though ‘nx’ is the most commonly used alias for ‘networkx’ module in Python."
      ],
      "metadata": {
        "id": "_v5-OyoZnGd5"
      }
    },
    {
      "cell_type": "markdown",
      "source": [
        "To create an empty graph, we use the following command: The above command will create an empty graph. An empty graph is a graph whose vertex set and the edge set are both empty."
      ],
      "metadata": {
        "id": "8g_CAwNQnJTz"
      }
    },
    {
      "cell_type": "code",
      "source": [
        "G = nx.Graph()"
      ],
      "metadata": {
        "id": "AHyQA1XomXUg"
      },
      "execution_count": null,
      "outputs": []
    },
    {
      "cell_type": "markdown",
      "source": [
        "To access the vertex set and the edge set of the graph G, we can use the following command:\n",
        "\n",
        "Both G.nodes() and G.edges return Python lists. Obviously, the above two commands will return two empty lists because we have not added any nodes or edges to graph G."
      ],
      "metadata": {
        "id": "CLPUYyPjnQ-V"
      }
    },
    {
      "cell_type": "code",
      "source": [
        "print(2+5)"
      ],
      "metadata": {
        "id": "wdwwRBa5dap2",
        "colab": {
          "base_uri": "https://localhost:8080/"
        },
        "outputId": "1da56147-adfc-4018-f7ce-c467f7a3abad"
      },
      "execution_count": null,
      "outputs": [
        {
          "output_type": "stream",
          "name": "stdout",
          "text": [
            "7\n"
          ]
        }
      ]
    },
    {
      "cell_type": "code",
      "source": [
        "print()"
      ],
      "metadata": {
        "colab": {
          "base_uri": "https://localhost:8080/"
        },
        "id": "qmQvA9xPm8Fd",
        "outputId": "72d0b576-b41f-481f-865d-e1d014658ec9"
      },
      "execution_count": null,
      "outputs": [
        {
          "output_type": "stream",
          "name": "stdout",
          "text": [
            "\n"
          ]
        }
      ]
    },
    {
      "cell_type": "code",
      "source": [
        "print(\"HI\")"
      ],
      "metadata": {
        "colab": {
          "base_uri": "https://localhost:8080/"
        },
        "id": "hxhPc0yvm-k4",
        "outputId": "ce19fb2e-2679-41da-cde5-91b176880d70"
      },
      "execution_count": null,
      "outputs": [
        {
          "output_type": "stream",
          "name": "stdout",
          "text": [
            "HI\n"
          ]
        }
      ]
    },
    {
      "cell_type": "code",
      "source": [
        "print(G.nodes())"
      ],
      "metadata": {
        "id": "ZXGwY_Edme8V",
        "colab": {
          "base_uri": "https://localhost:8080/"
        },
        "outputId": "c11d8fd1-a908-41bc-95a8-bd5ec5d9f972"
      },
      "execution_count": null,
      "outputs": [
        {
          "output_type": "stream",
          "name": "stdout",
          "text": [
            "[]\n"
          ]
        }
      ]
    },
    {
      "cell_type": "code",
      "source": [
        "print(G.edges())"
      ],
      "metadata": {
        "id": "pUzD9irRmjyV",
        "colab": {
          "base_uri": "https://localhost:8080/"
        },
        "outputId": "4bd7e45f-acd6-4219-8d80-74ad42ab34dc"
      },
      "execution_count": null,
      "outputs": [
        {
          "output_type": "stream",
          "name": "stdout",
          "text": [
            "[]\n"
          ]
        }
      ]
    },
    {
      "cell_type": "code",
      "source": [
        "G.add_node(\"A\")"
      ],
      "metadata": {
        "id": "xXfnmNKlmnY6"
      },
      "execution_count": null,
      "outputs": []
    },
    {
      "cell_type": "code",
      "source": [
        "G.remove_node(\"A\")"
      ],
      "metadata": {
        "id": "HUhSc1rzR9GT"
      },
      "execution_count": null,
      "outputs": []
    },
    {
      "cell_type": "code",
      "source": [
        "G.add_nodes_from([\"B\",\"C\",\"D\",\"E\"])"
      ],
      "metadata": {
        "id": "At6A6ePbmo7S"
      },
      "execution_count": null,
      "outputs": []
    },
    {
      "cell_type": "code",
      "source": [
        "print(G.nodes())"
      ],
      "metadata": {
        "id": "n3yVMmEEQwnP",
        "colab": {
          "base_uri": "https://localhost:8080/"
        },
        "outputId": "ad0b19b8-445f-486c-b1cf-86046dd26377"
      },
      "execution_count": null,
      "outputs": [
        {
          "output_type": "stream",
          "name": "stdout",
          "text": [
            "['B', 'C', 'D', 'E']\n"
          ]
        }
      ]
    },
    {
      "cell_type": "code",
      "source": [
        "pip install matplotlib"
      ],
      "metadata": {
        "id": "lS8KoLqcocg4",
        "colab": {
          "base_uri": "https://localhost:8080/"
        },
        "outputId": "6bda4ca3-5479-4c75-d958-b34c3cde5f76"
      },
      "execution_count": null,
      "outputs": [
        {
          "output_type": "stream",
          "name": "stdout",
          "text": [
            "Requirement already satisfied: matplotlib in /usr/local/lib/python3.11/dist-packages (3.10.0)\n",
            "Requirement already satisfied: contourpy>=1.0.1 in /usr/local/lib/python3.11/dist-packages (from matplotlib) (1.3.2)\n",
            "Requirement already satisfied: cycler>=0.10 in /usr/local/lib/python3.11/dist-packages (from matplotlib) (0.12.1)\n",
            "Requirement already satisfied: fonttools>=4.22.0 in /usr/local/lib/python3.11/dist-packages (from matplotlib) (4.59.0)\n",
            "Requirement already satisfied: kiwisolver>=1.3.1 in /usr/local/lib/python3.11/dist-packages (from matplotlib) (1.4.8)\n",
            "Requirement already satisfied: numpy>=1.23 in /usr/local/lib/python3.11/dist-packages (from matplotlib) (2.0.2)\n",
            "Requirement already satisfied: packaging>=20.0 in /usr/local/lib/python3.11/dist-packages (from matplotlib) (25.0)\n",
            "Requirement already satisfied: pillow>=8 in /usr/local/lib/python3.11/dist-packages (from matplotlib) (11.3.0)\n",
            "Requirement already satisfied: pyparsing>=2.3.1 in /usr/local/lib/python3.11/dist-packages (from matplotlib) (3.2.3)\n",
            "Requirement already satisfied: python-dateutil>=2.7 in /usr/local/lib/python3.11/dist-packages (from matplotlib) (2.9.0.post0)\n",
            "Requirement already satisfied: six>=1.5 in /usr/local/lib/python3.11/dist-packages (from python-dateutil>=2.7->matplotlib) (1.17.0)\n"
          ]
        }
      ]
    },
    {
      "cell_type": "code",
      "source": [
        "import matplotlib.pyplot as plt"
      ],
      "metadata": {
        "id": "u_3WLfQr5N6J"
      },
      "execution_count": null,
      "outputs": []
    },
    {
      "cell_type": "markdown",
      "source": [
        "The above command will add four vertices (or, nodes) in graph G. Now, graph G has five vertices A, B, C, D, and E. These are just isolated vertices because we have not added any edges to the graph G."
      ],
      "metadata": {
        "id": "QRiaUxS1mBKA"
      }
    },
    {
      "cell_type": "markdown",
      "source": [
        "We can add an edges as follows"
      ],
      "metadata": {
        "id": "Yzo_SxZgnv5f"
      }
    },
    {
      "cell_type": "code",
      "source": [
        "G.add_edge(\"A\",\"B\")"
      ],
      "metadata": {
        "id": "2YCpNP9gnyuz"
      },
      "execution_count": null,
      "outputs": []
    },
    {
      "cell_type": "code",
      "source": [
        "G.add_edges_from([(\"A\",\"C\"), (\"B\",\"D\"), (\"B\",\"E\"), (\"C\", \"E\")])"
      ],
      "metadata": {
        "id": "WROndRs2n1g4"
      },
      "execution_count": null,
      "outputs": []
    },
    {
      "cell_type": "markdown",
      "source": [
        "**Accessing:**"
      ],
      "metadata": {
        "id": "w66QSFvNoBRs"
      }
    },
    {
      "cell_type": "code",
      "source": [
        "print(\"Vertex set:\" ,G.nodes())"
      ],
      "metadata": {
        "id": "5odZc2MNoGIy",
        "colab": {
          "base_uri": "https://localhost:8080/"
        },
        "outputId": "811eba9b-9468-4d24-d7d8-e7ebfc2310c0"
      },
      "execution_count": null,
      "outputs": [
        {
          "output_type": "stream",
          "name": "stdout",
          "text": [
            "Vertex set: ['B', 'C', 'D', 'E', 'A']\n"
          ]
        }
      ]
    },
    {
      "cell_type": "code",
      "source": [
        "print(\"Edge set: \",G.edges())"
      ],
      "metadata": {
        "id": "HVc_r3xaoKf1",
        "colab": {
          "base_uri": "https://localhost:8080/"
        },
        "outputId": "655d76ae-ff20-489a-ea6b-aeaa2e3a4172"
      },
      "execution_count": null,
      "outputs": [
        {
          "output_type": "stream",
          "name": "stdout",
          "text": [
            "Edge set:  [('B', 'A'), ('B', 'D'), ('B', 'E'), ('C', 'A'), ('C', 'E')]\n"
          ]
        }
      ]
    },
    {
      "cell_type": "markdown",
      "source": [
        "**Drawing:**"
      ],
      "metadata": {
        "id": "fjS8HyGfoNH0"
      }
    },
    {
      "cell_type": "code",
      "source": [
        "nx.draw(G)\n",
        "plt.show()"
      ],
      "metadata": {
        "id": "KEu-2P-hohcm",
        "colab": {
          "base_uri": "https://localhost:8080/",
          "height": 516
        },
        "outputId": "9361f32d-5e06-422f-c011-08a03f564854"
      },
      "execution_count": null,
      "outputs": [
        {
          "output_type": "display_data",
          "data": {
            "text/plain": [
              "<Figure size 640x480 with 1 Axes>"
            ],
            "image/png": "[encoded data removed]"
          },
          "metadata": {}
        }
      ]
    },
    {
      "cell_type": "code",
      "source": [
        "plt.savefig(\"eeeexample.png\")"
      ],
      "metadata": {
        "id": "4xefswJBolKr"
      },
      "execution_count": null,
      "outputs": []
    },
    {
      "cell_type": "code",
      "source": [
        "nx.draw(G, with_labels=True, font_weight='bold')\n",
        "plt.show()"
      ],
      "metadata": {
        "id": "qANAF9HioqFp",
        "colab": {
          "base_uri": "https://localhost:8080/",
          "height": 516
        },
        "outputId": "45d1cce3-1e51-4098-e2d2-aa68fcdce777"
      },
      "execution_count": null,
      "outputs": [
        {
          "output_type": "display_data",
          "data": {
            "text/plain": [
              "<Figure size 640x480 with 1 Axes>"
            ],
            "image/png": "[encoded data removed]"
          },
          "metadata": {}
        }
      ]
    },
    {
      "cell_type": "markdown",
      "source": [
        "**Generation from graph templates**"
      ],
      "metadata": {
        "id": "dARjzOwUunFA"
      }
    },
    {
      "cell_type": "code",
      "source": [
        "GP = nx.petersen_graph()"
      ],
      "metadata": {
        "id": "Y3HtCoeZulo3"
      },
      "execution_count": null,
      "outputs": []
    },
    {
      "cell_type": "code",
      "source": [
        "nx.draw(GP, with_labels=True, font_weight='bold')\n",
        "plt.show()"
      ],
      "metadata": {
        "id": "AC4tmgYDuqjB"
      },
      "execution_count": null,
      "outputs": []
    },
    {
      "cell_type": "markdown",
      "source": [
        "**Deterministic vs Stochastic graphs**\n",
        "\n",
        "Social networks are usually modeled and represented as deterministic graphs with a set of nodes as users and edges as connection between users of networks. Due to the uncertain and dynamic nature of user behavior and human activities in social networks, their structural and behavioral parameters are time varying parameters and for this reason using deterministic graphs for modeling and analysis of behavior of users may not be appropriate.\n",
        "\n",
        "Whereas stochastic graphs, in which weights associated with edges are random variables, may be a better candidate as a graph model for social network analysis."
      ],
      "metadata": {
        "id": "IJubwkexxOP_"
      }
    },
    {
      "cell_type": "markdown",
      "source": [
        "**Stochastic graph generation with networkX**"
      ],
      "metadata": {
        "id": "JTsH322uvDAv"
      }
    },
    {
      "cell_type": "markdown",
      "source": [
        "![stograph.png](data:image/png;base64,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)"
      ],
      "metadata": {
        "id": "TBcSupEWvvOJ"
      }
    },
    {
      "cell_type": "code",
      "source": [
        "er = nx.erdos_renyi_graph(50,0.05)\n",
        "nx.draw(er, with_labels=True, font_weight='bold')\n",
        "plt.show()\n"
      ],
      "metadata": {
        "id": "qeHvhKnfvJVw"
      },
      "execution_count": null,
      "outputs": []
    },
    {
      "cell_type": "code",
      "source": [
        "ws = nx.watts_strogatz_graph(30, 3, 0.1)\n",
        "nx.draw(ws, with_labels=True, font_weight='bold')\n",
        "plt.show()"
      ],
      "metadata": {
        "id": "6RyNxzKZwCm4"
      },
      "execution_count": null,
      "outputs": []
    },
    {
      "cell_type": "code",
      "source": [
        "ba = nx.barabasi_albert_graph(100, 5)\n",
        "nx.draw(ba, with_labels=True, font_weight='bold')\n",
        "plt.show()"
      ],
      "metadata": {
        "id": "VI7dCNRUwWc-"
      },
      "execution_count": null,
      "outputs": []
    },
    {
      "cell_type": "code",
      "source": [
        "red = nx.random_lobster(10, 0.25, 0.25)\n",
        "nx.draw(red, with_labels=True, font_weight='bold')\n",
        "plt.show()"
      ],
      "metadata": {
        "id": "8OZxSg6wwc63"
      },
      "execution_count": null,
      "outputs": []
    },
    {
      "cell_type": "markdown",
      "source": [
        "More on networkX graph generators at\n",
        "\n",
        "https://networkx.org/documentation/stable/reference/generators.html"
      ],
      "metadata": {
        "id": "6H1mMfYS0uUT"
      }
    },
    {
      "cell_type": "markdown",
      "source": [
        "**Reading graph from user input**"
      ],
      "metadata": {
        "id": "ki-WG959ybXv"
      }
    },
    {
      "cell_type": "markdown",
      "source": [
        "NetworkX supports many popular formats, such as\n",
        "**edge lists**, **adjacency lists**, **GML**, **GraphML**, **pickle**, **LEDA** and others."
      ],
      "metadata": {
        "id": "aWoPI0dDyjsw"
      }
    },
    {
      "cell_type": "code",
      "source": [
        "nx.write_gml(read, \"path.to.file\")\n",
        "mygraph = nx.read_gml(\"path.to.file\")"
      ],
      "metadata": {
        "id": "sUhqwrmsyax_"
      },
      "execution_count": null,
      "outputs": []
    },
    {
      "cell_type": "markdown",
      "source": [
        "**View**"
      ],
      "metadata": {
        "id": "b_AVulLmuu0T"
      }
    },
    {
      "cell_type": "code",
      "source": [
        "print(G.adj)"
      ],
      "metadata": {
        "id": "0sba0LLYuvzC"
      },
      "execution_count": null,
      "outputs": []
    },
    {
      "cell_type": "code",
      "source": [
        "G.degree(\"D\")"
      ],
      "metadata": {
        "id": "AGS7Q1YFuwU0"
      },
      "execution_count": null,
      "outputs": []
    },
    {
      "cell_type": "markdown",
      "source": [],
      "metadata": {
        "id": "t71DlckAxLSQ"
      }
    },
    {
      "cell_type": "code",
      "source": [
        "print(er.adj)"
      ],
      "metadata": {
        "id": "YsZpWhyEUZgm"
      },
      "execution_count": null,
      "outputs": []
    },
    {
      "cell_type": "markdown",
      "source": [
        "**Weighted graphs**"
      ],
      "metadata": {
        "id": "ii5v-IWLu2NY"
      }
    },
    {
      "cell_type": "code",
      "source": [
        "G1 = nx.Graph()\n",
        "G1.add_weighted_edges_from([('A', 'B', 2),('A', 'C', 1),('B', 'D', 5),('B', 'E', 4),('C', 'E', 2)])"
      ],
      "metadata": {
        "id": "k35mzIEThh5i"
      },
      "execution_count": null,
      "outputs": []
    },
    {
      "cell_type": "code",
      "source": [
        "G2 = nx.Graph()\n",
        "# E is the list of all of edges with their weights\n",
        "E = [('A', 'B', 2), ('A', 'C', 1), ('B', 'D', 5), ('B', 'E', 3), ('C', 'E', 2)]\n",
        "G2.add_weighted_edges_from(E)\n",
        "\n"
      ],
      "metadata": {
        "id": "_CX6AgTmu3jx"
      },
      "execution_count": null,
      "outputs": []
    },
    {
      "cell_type": "code",
      "source": [
        "nx.draw(G1)\n",
        "plt.show()"
      ],
      "metadata": {
        "id": "wQzlL-sdjRZZ"
      },
      "execution_count": null,
      "outputs": []
    },
    {
      "cell_type": "code",
      "source": [
        "G = nx.Graph()\n",
        "G.add_weighted_edges_from ([('A', 'B', 2), ('A', 'C', 1), ('B', 'D', 5), ('B', 'E', 3), ('C', 'E', 2)])"
      ],
      "metadata": {
        "id": "-hegvbvqU8Ol"
      },
      "execution_count": null,
      "outputs": []
    },
    {
      "cell_type": "code",
      "source": [
        "pos=nx.spring_layout(G)\n",
        "nx.draw(G, pos, with_labels=True, font_weight='bold')\n",
        "\n",
        "edge_weight = nx.get_edge_attributes(G,'weight')\n",
        "nx.draw_networkx_edge_labels(G, pos, edge_labels = edge_weight)\n",
        "\n",
        "plt.show()"
      ],
      "metadata": {
        "id": "os_yeJCSvKjc"
      },
      "execution_count": null,
      "outputs": []
    },
    {
      "cell_type": "code",
      "source": [
        "# importing networkx\n",
        "import networkx as nx\n",
        "# importing matplotlib.pyplot\n",
        "import matplotlib.pyplot as plt\n",
        "\n",
        "g = nx.Graph()\n",
        "\n",
        "g.add_edge(1, 2)\n",
        "g.add_edge(2, 3)\n",
        "g.add_edge(3, 4)\n",
        "g.add_edge(1, 4)\n",
        "g.add_edge(1, 5)\n",
        "g.add_edge(5, 6)\n",
        "g.add_edge(5, 7)\n",
        "g.add_edge(4, 8)\n",
        "g.add_edge(3, 8)\n",
        "\n",
        "# drawing in circular layout\n",
        "nx.draw_circular(g, with_labels = True)\n",
        "plt.savefig(\"filename1.png\")\n",
        "\n",
        "\n",
        "\n",
        "# drawing in planar layout\n",
        "nx.draw_planar(g, with_labels = True)\n",
        "plt.show()\n",
        ".9, 0.\n",
        "\n",
        "\n",
        "# drawing in random layout\n",
        "nx.draw_random(g, with_labels = True)\n",
        "plt.show()\n",
        "\n",
        "\n",
        "\n",
        "# drawing in spectral layout\n",
        "nx.draw_spectral(g, with_labels = True)\n",
        "plt.show()\n",
        "\n",
        "\n",
        "\n",
        "# drawing in spring layout\n",
        "nx.draw_spring(g, with_labels = True)\n",
        "plt.show()\n",
        "\n",
        "\n",
        "\n",
        "# drawing in shell layout\n",
        "nx.draw_shell(g, with_labels = True)\n",
        "plt.show()\n",
        "\n"
      ],
      "metadata": {
        "id": "DKKkiKH-8fbT"
      },
      "execution_count": null,
      "outputs": []
    }
  ]
}